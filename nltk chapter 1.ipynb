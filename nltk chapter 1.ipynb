{
 "cells": [
  {
   "cell_type": "markdown",
   "metadata": {},
   "source": [
    "# NLTK Examples\n",
    "\n",
    "The following is a general walkthrough of chapter 1 of the nltk book. The exercises aren't exactly the same but they are similar to the original assignments."
   ]
  },
  {
   "cell_type": "code",
   "execution_count": 31,
   "metadata": {
    "collapsed": true
   },
   "outputs": [],
   "source": [
    "from __future__ import division\n",
    "import nltk\n",
    "import numpy as np\n",
    "import matplotlib\n",
    "from nltk import *"
   ]
  },
  {
   "cell_type": "markdown",
   "metadata": {},
   "source": [
    "# Loading Text Data to Use\n",
    "* To load data to use, we'll first import the texts."
   ]
  },
  {
   "cell_type": "code",
   "execution_count": 23,
   "metadata": {
    "collapsed": false
   },
   "outputs": [],
   "source": [
    "# Load all the texts so that we can use them in the future\n",
    "from nltk.book import *"
   ]
  },
  {
   "cell_type": "markdown",
   "metadata": {},
   "source": [
    "* Once the texts have been imported, we can use each text however we see fit to perform analysis"
   ]
  },
  {
   "cell_type": "code",
   "execution_count": 4,
   "metadata": {
    "collapsed": false
   },
   "outputs": [
    {
     "name": "stdout",
     "output_type": "stream",
     "text": [
      "('text1:', <Text: Moby Dick by Herman Melville 1851>)\n",
      "('text2: ', <Text: Sense and Sensibility by Jane Austen 1811>)\n",
      "('text9: ', <Text: The Man Who Was Thursday by G . K . Chesterton 1908>)\n"
     ]
    }
   ],
   "source": [
    "# View possible texts\n",
    "print(\"text1:\", text1)\n",
    "print(\"text2: \", text2)\n",
    "print(\"text9: \", text9)"
   ]
  },
  {
   "cell_type": "markdown",
   "metadata": {},
   "source": [
    "# Searching Text\n",
    " \n",
    "## Concordance\n",
    " *  shows us every occurrence of a given word, together with some context."
   ]
  },
  {
   "cell_type": "code",
   "execution_count": 5,
   "metadata": {
    "collapsed": false
   },
   "outputs": [
    {
     "name": "stdout",
     "output_type": "stream",
     "text": [
      "Displaying 11 of 11 matches:\n",
      "ong the former , one was of a most monstrous size . ... This came towards us , \n",
      "ON OF THE PSALMS . \" Touching that monstrous bulk of the whale or ork we have r\n",
      "ll over with a heathenish array of monstrous clubs and spears . Some were thick\n",
      "d as you gazed , and wondered what monstrous cannibal and savage could ever hav\n",
      "that has survived the flood ; most monstrous and most mountainous ! That Himmal\n",
      "they might scout at Moby Dick as a monstrous fable , or still worse and more de\n",
      "th of Radney .'\" CHAPTER 55 Of the Monstrous Pictures of Whales . I shall ere l\n",
      "ing Scenes . In connexion with the monstrous pictures of whales , I am strongly\n",
      "ere to enter upon those still more monstrous stories of them which are to be fo\n",
      "ght have been rummaged out of this monstrous cabinet there is no telling . But \n",
      "of Whale - Bones ; for Whales of a monstrous size are oftentimes cast up dead u\n"
     ]
    }
   ],
   "source": [
    "# View every case of \"monstrous\" in Moby dick\n",
    "text1.concordance(\"monstrous\")"
   ]
  },
  {
   "cell_type": "code",
   "execution_count": 6,
   "metadata": {
    "collapsed": false
   },
   "outputs": [
    {
     "name": "stdout",
     "output_type": "stream",
     "text": [
      "<Text: Inaugural Address Corpus>\n",
      "Displaying 8 of 8 matches:\n",
      "menaces , by fraud or violence , by terror , intrigue , or venality , the Gove\n",
      "ameless , unreasoning , unjustified terror which paralyzes needed efforts to c\n",
      "ublic seemed frozen by a fatalistic terror , we proved that this is not true .\n",
      " to alter that uncertain balance of terror that stays the hand of mankind ' s \n",
      "eans freeing all Americans from the terror of runaway living costs . All must \n",
      "still . They fuel the fanaticism of terror . And they torment the lives of mil\n",
      "d maintain a strong defense against terror and destruction . Our children will\n",
      "k to advance their aims by inducing terror and slaughtering innocents , we say\n"
     ]
    }
   ],
   "source": [
    "# Search the Inaugural Address Corpus for \"terror\"\n",
    "print(text4)\n",
    "text4.concordance(\"terror\")"
   ]
  },
  {
   "cell_type": "markdown",
   "metadata": {},
   "source": [
    "## Similar\n",
    "* Finds other words that appear in a similar range of contexts as a given word."
   ]
  },
  {
   "cell_type": "code",
   "execution_count": 7,
   "metadata": {
    "collapsed": false
   },
   "outputs": [
    {
     "name": "stdout",
     "output_type": "stream",
     "text": [
      "imperial subtly impalpable pitiable curious abundant perilous\n",
      "trustworthy untoward singular lamentable few determined maddens\n",
      "horrible tyrannical lazy mystifying christian exasperate\n"
     ]
    }
   ],
   "source": [
    "# Find words similar in context to \"tyrannical\" in Moby Dick\n",
    "text1.similar(\"monstrous\")"
   ]
  },
  {
   "cell_type": "code",
   "execution_count": 8,
   "metadata": {
    "collapsed": false
   },
   "outputs": [
    {
     "name": "stdout",
     "output_type": "stream",
     "text": [
      "very exceedingly so heartily a great good amazingly as sweet\n",
      "remarkably extremely vast\n"
     ]
    }
   ],
   "source": [
    "# Find words similar in context to \"fuck\" in \"Chat Corpus\"\n",
    "text2.similar(\"monstrous\")"
   ]
  },
  {
   "cell_type": "markdown",
   "metadata": {},
   "source": [
    "Clearly the different texts have different contexts for the same words"
   ]
  },
  {
   "cell_type": "markdown",
   "metadata": {},
   "source": [
    "## common_contexts\n",
    "* Allows for the examination of just the contexts that are shared by two or more words."
   ]
  },
  {
   "cell_type": "code",
   "execution_count": 9,
   "metadata": {
    "collapsed": false
   },
   "outputs": [
    {
     "name": "stdout",
     "output_type": "stream",
     "text": [
      "No common contexts were found\n"
     ]
    }
   ],
   "source": [
    "# as expected, the following result yields no common contexts\n",
    "text1.common_contexts([\"bad\",\"good\"])"
   ]
  },
  {
   "cell_type": "code",
   "execution_count": 10,
   "metadata": {
    "collapsed": false
   },
   "outputs": [
    {
     "name": "stdout",
     "output_type": "stream",
     "text": [
      "shall_for\n"
     ]
    }
   ],
   "source": [
    "text3.common_contexts([\"pray\",\"be\"])"
   ]
  },
  {
   "cell_type": "code",
   "execution_count": 11,
   "metadata": {
    "collapsed": false
   },
   "outputs": [
    {
     "name": "stdout",
     "output_type": "stream",
     "text": [
      "government freedom peace life country people war duty liberty congress\n",
      "all union time justice duties prosperity confidence administration\n",
      "right laws\n"
     ]
    }
   ],
   "source": [
    "# We can easily find common_contexts between words. \n",
    "# First - select a word and find similar words contextually.\n",
    "text4.similar(\"power\")"
   ]
  },
  {
   "cell_type": "code",
   "execution_count": 44,
   "metadata": {
    "collapsed": false
   },
   "outputs": [
    {
     "name": "stdout",
     "output_type": "stream",
     "text": [
      "of_, of_and that_and of_. its_, their_and the_which and_, the_of of_in\n",
      "of_is the_that with_. in_and of_to for_, our_. and_of to_, of_that\n"
     ]
    }
   ],
   "source": [
    "# Then, view their common contexts\n",
    "text4.common_contexts([\"power\",\"peace\"])"
   ]
  },
  {
   "cell_type": "markdown",
   "metadata": {},
   "source": [
    "## dispersion_plot\n",
    "* Yields a graphical representation of the  location of a word in the text: how many words from the beginning it appears."
   ]
  },
  {
   "cell_type": "code",
   "execution_count": null,
   "metadata": {
    "collapsed": true
   },
   "outputs": [],
   "source": [
    "# Let's view how the words 'whale', 'monstrous', 'life', and 'death' were used over time in Moby Dick\n",
    "text1.dispersion_plot([\"whale\",\"monstrous\",\"life\",\"death\"])"
   ]
  },
  {
   "cell_type": "markdown",
   "metadata": {},
   "source": [
    "## generate\n",
    "* Generates random text in the style of the object text"
   ]
  },
  {
   "cell_type": "code",
   "execution_count": 72,
   "metadata": {
    "collapsed": false
   },
   "outputs": [
    {
     "ename": "AttributeError",
     "evalue": "'Text' object has no attribute 'generate'",
     "output_type": "error",
     "traceback": [
      "\u001b[0;31m---------------------------------------------------------------------------\u001b[0m",
      "\u001b[0;31mAttributeError\u001b[0m                            Traceback (most recent call last)",
      "\u001b[0;32m<ipython-input-72-858a60679bf8>\u001b[0m in \u001b[0;36m<module>\u001b[0;34m()\u001b[0m\n\u001b[0;32m----> 1\u001b[0;31m \u001b[0mtext1\u001b[0m\u001b[0;34m.\u001b[0m\u001b[0mgenerate\u001b[0m\u001b[0;34m(\u001b[0m\u001b[0;34m)\u001b[0m\u001b[0;34m\u001b[0m\u001b[0m\n\u001b[0m",
      "\u001b[0;31mAttributeError\u001b[0m: 'Text' object has no attribute 'generate'"
     ]
    }
   ],
   "source": [
    "text1.generate()"
   ]
  },
  {
   "cell_type": "markdown",
   "metadata": {},
   "source": [
    "# Counting Vocabulary"
   ]
  },
  {
   "cell_type": "code",
   "execution_count": null,
   "metadata": {
    "collapsed": true
   },
   "outputs": [],
   "source": [
    "# To count the number of words and punctuation symbols in the text, simply call len()\n",
    "len(text1)"
   ]
  },
  {
   "cell_type": "markdown",
   "metadata": {},
   "source": [
    "### *Token*\n",
    "A **token** is an important term that comes up frequently in NLP. It is simply sequence of characters treated as a group. For example, _Jared_, _:_, , _is_, and _:.(_ are all tokens"
   ]
  },
  {
   "cell_type": "markdown",
   "metadata": {
    "collapsed": true
   },
   "source": [
    "### Count unique words in corpus"
   ]
  },
  {
   "cell_type": "code",
   "execution_count": 8,
   "metadata": {
    "collapsed": false
   },
   "outputs": [
    {
     "data": {
      "text/plain": [
       "19317"
      ]
     },
     "execution_count": 8,
     "metadata": {},
     "output_type": "execute_result"
    }
   ],
   "source": [
    "# Number of unique words in Moby Dick\n",
    "len(set(text1))"
   ]
  },
  {
   "cell_type": "code",
   "execution_count": 15,
   "metadata": {
    "collapsed": false
   },
   "outputs": [
    {
     "data": {
      "text/plain": [
       "[u'!',\n",
       " u'!\"',\n",
       " u'!\"--',\n",
       " u\"!'\",\n",
       " u'!\\'\"',\n",
       " u'!)',\n",
       " u'!)\"',\n",
       " u'!*',\n",
       " u'!--',\n",
       " u'!--\"',\n",
       " u\"!--'\",\n",
       " u'\"',\n",
       " u'\"\\'',\n",
       " u'\"--',\n",
       " u'\"...',\n",
       " u'\";',\n",
       " u'$',\n",
       " u'&',\n",
       " u\"'\",\n",
       " u\"',\",\n",
       " u\"',--\",\n",
       " u\"'-\",\n",
       " u\"'--\",\n",
       " u\"';\",\n",
       " u'(',\n",
       " u')',\n",
       " u'),',\n",
       " u')--',\n",
       " u').',\n",
       " u').--',\n",
       " u'):',\n",
       " u');',\n",
       " u');--',\n",
       " u'*',\n",
       " u',',\n",
       " u',\"',\n",
       " u',\"--',\n",
       " u\",'\",\n",
       " u\",'--\",\n",
       " u',)',\n",
       " u',*',\n",
       " u',--',\n",
       " u',--\"',\n",
       " u\",--'\",\n",
       " u'-',\n",
       " u'--',\n",
       " u'--\"',\n",
       " u\"--'\",\n",
       " u'--\\'\"',\n",
       " u'--(',\n",
       " u'---\"',\n",
       " u'---,',\n",
       " u'.',\n",
       " u'.\"',\n",
       " u'.\"*',\n",
       " u'.\"--',\n",
       " u\".'\",\n",
       " u'.\\'\"',\n",
       " u'.)',\n",
       " u'.*',\n",
       " u'.*--',\n",
       " u'.,',\n",
       " u'.--',\n",
       " u'.--\"',\n",
       " u'...',\n",
       " u'....',\n",
       " u'.]',\n",
       " u'000',\n",
       " u'1',\n",
       " u'10',\n",
       " u'100',\n",
       " u'101',\n",
       " u'102',\n",
       " u'103',\n",
       " u'104',\n",
       " u'105',\n",
       " u'106',\n",
       " u'107',\n",
       " u'108',\n",
       " u'109',\n",
       " u'11',\n",
       " u'110',\n",
       " u'111',\n",
       " u'112',\n",
       " u'113',\n",
       " u'114',\n",
       " u'115',\n",
       " u'116',\n",
       " u'117',\n",
       " u'118',\n",
       " u'119',\n",
       " u'12',\n",
       " u'120',\n",
       " u'121',\n",
       " u'122',\n",
       " u'123',\n",
       " u'124',\n",
       " u'125',\n",
       " u'126',\n",
       " u'127',\n",
       " u'128',\n",
       " u'129',\n",
       " u'13',\n",
       " u'130',\n",
       " u'131',\n",
       " u'132',\n",
       " u'133',\n",
       " u'134',\n",
       " u'135',\n",
       " u'14',\n",
       " u'144',\n",
       " u'1492',\n",
       " u'15',\n",
       " u'150',\n",
       " u'15th',\n",
       " u'16',\n",
       " u'1652',\n",
       " u'1668',\n",
       " u'1671',\n",
       " u'1690',\n",
       " u'1695',\n",
       " u'16th',\n",
       " u'17',\n",
       " u'1726',\n",
       " u'1729',\n",
       " u'1750',\n",
       " u'1772',\n",
       " u'1775',\n",
       " u'1776',\n",
       " u'1778',\n",
       " u'1779',\n",
       " u'1788',\n",
       " u'1791',\n",
       " u'1793',\n",
       " u'18',\n",
       " u'180',\n",
       " u'1807',\n",
       " u'1819',\n",
       " u'1820',\n",
       " u'1821',\n",
       " u'1825',\n",
       " u'1828',\n",
       " u'1833',\n",
       " u'1836',\n",
       " u'1839',\n",
       " u'1840',\n",
       " u'1842',\n",
       " u'1846',\n",
       " u'1850',\n",
       " u'1851',\n",
       " u'19',\n",
       " u'1ST',\n",
       " u'1st',\n",
       " u'2',\n",
       " u'20',\n",
       " u'2000',\n",
       " u'200th',\n",
       " u'21',\n",
       " u'21st',\n",
       " u'22',\n",
       " u'23',\n",
       " u'24',\n",
       " u'25',\n",
       " u'26',\n",
       " u'27',\n",
       " u'275th',\n",
       " u'28',\n",
       " u'29',\n",
       " u'2ND',\n",
       " u'3',\n",
       " u'30',\n",
       " u'31',\n",
       " u'31st',\n",
       " u'32',\n",
       " u'33',\n",
       " u'34',\n",
       " u'35',\n",
       " u'36',\n",
       " u'37',\n",
       " u'38',\n",
       " u'39',\n",
       " u'3D',\n",
       " u'3d',\n",
       " u'4',\n",
       " u'40',\n",
       " u'400',\n",
       " u'41',\n",
       " u'42',\n",
       " u'43',\n",
       " u'44',\n",
       " u'440',\n",
       " u'45',\n",
       " u'46',\n",
       " u'47',\n",
       " u'48',\n",
       " u'49',\n",
       " u'4TH',\n",
       " u'5',\n",
       " u'50',\n",
       " u'500',\n",
       " u'51',\n",
       " u'52',\n",
       " u'53',\n",
       " u'54',\n",
       " u'55',\n",
       " u'550',\n",
       " u'56',\n",
       " u'57',\n",
       " u'58',\n",
       " u'59',\n",
       " u'5TH',\n",
       " u'6',\n",
       " u'60',\n",
       " u'61',\n",
       " u'62',\n",
       " u'63',\n",
       " u'64',\n",
       " u'65',\n",
       " u'66',\n",
       " u'67',\n",
       " u'68',\n",
       " u'69',\n",
       " u'7',\n",
       " u'70',\n",
       " u'71',\n",
       " u'72',\n",
       " u'73',\n",
       " u'74',\n",
       " u'75',\n",
       " u'76',\n",
       " u'77',\n",
       " u'78',\n",
       " u'79',\n",
       " u'8',\n",
       " u'80',\n",
       " u'800',\n",
       " u'81',\n",
       " u'82',\n",
       " u'83',\n",
       " u'84',\n",
       " u'85',\n",
       " u'86',\n",
       " u'87',\n",
       " u'88',\n",
       " u'89',\n",
       " u'890',\n",
       " u'9',\n",
       " u'90',\n",
       " u'91',\n",
       " u'92',\n",
       " u'93',\n",
       " u'94',\n",
       " u'95',\n",
       " u'96',\n",
       " u'97',\n",
       " u'98',\n",
       " u'99',\n",
       " u':',\n",
       " u':\"-',\n",
       " u':--',\n",
       " u':--\"',\n",
       " u\":--'\",\n",
       " u';',\n",
       " u';\"',\n",
       " u';\"--',\n",
       " u';\"--(',\n",
       " u\";'\",\n",
       " u';*',\n",
       " u';--',\n",
       " u';--\"',\n",
       " u\";--'\",\n",
       " u'?',\n",
       " u'?\"',\n",
       " u'?\"--',\n",
       " u\"?'\",\n",
       " u\"?'--'\",\n",
       " u'?--',\n",
       " u'?--\"',\n",
       " u\"?--'\",\n",
       " u'A',\n",
       " u'ABOUT',\n",
       " u'ACCOUNT',\n",
       " u'ADDITIONAL',\n",
       " u'ADVANCING',\n",
       " u'ADVENTURES',\n",
       " u'AFFGHANISTAN',\n",
       " u'AFRICA',\n",
       " u'AFTER',\n",
       " u'AGAINST',\n",
       " u'AHAB',\n",
       " u'ALFRED',\n",
       " u'ALGERINE',\n",
       " u'ALIVE',\n",
       " u'ALL',\n",
       " u'ALONE',\n",
       " u'AM',\n",
       " u'AMERICA',\n",
       " u'AMONG',\n",
       " u'ANCHORS',\n",
       " u'AND',\n",
       " u'ANGLO',\n",
       " u'ANIMAL',\n",
       " u'ANNALS',\n",
       " u'ANNUS',\n",
       " u'ANOTHER',\n",
       " u'ANY',\n",
       " u'APOLOGY',\n",
       " u'APPLICATION',\n",
       " u'APPROACHING',\n",
       " u'ARCTIC',\n",
       " u'ARE',\n",
       " u'AROUND',\n",
       " u'AS',\n",
       " u'ASCENDING',\n",
       " u'ASIA',\n",
       " u'ASIDE',\n",
       " u'ASPECT',\n",
       " u'AT',\n",
       " u'ATTACK',\n",
       " u'ATTACKED',\n",
       " u'ATTITUDES',\n",
       " u'AUGUST',\n",
       " u'AUTHOR',\n",
       " u'AZORE',\n",
       " u'Abashed',\n",
       " u'Abednego',\n",
       " u'Abel',\n",
       " u'Abjectus',\n",
       " u'Aboard',\n",
       " u'Abominable',\n",
       " u'About',\n",
       " u'Above',\n",
       " u'Abraham',\n",
       " u'Academy',\n",
       " u'Accessory',\n",
       " u'According',\n",
       " u'Accordingly',\n",
       " u'Accursed',\n",
       " u'Achilles',\n",
       " u'Actium',\n",
       " u'Acushnet',\n",
       " u'Adam',\n",
       " u'Adieu',\n",
       " u'Adios',\n",
       " u'Admiral',\n",
       " u'Admirals',\n",
       " u'Advance',\n",
       " u'Advancement',\n",
       " u'Adventures',\n",
       " u'Adverse',\n",
       " u'Advocate',\n",
       " u'Affected',\n",
       " u'Affidavit',\n",
       " u'Affrighted',\n",
       " u'Afric',\n",
       " u'Africa',\n",
       " u'African',\n",
       " u'Africans',\n",
       " u'Aft',\n",
       " u'After',\n",
       " u'Afterwards',\n",
       " u'Again',\n",
       " u'Against',\n",
       " u'Agassiz',\n",
       " u'Ages',\n",
       " u'Ah',\n",
       " u'Ahab',\n",
       " u'Ahabs',\n",
       " u'Ahasuerus',\n",
       " u'Ahaz',\n",
       " u'Ahoy',\n",
       " u'Ain',\n",
       " u'Air',\n",
       " u'Akin',\n",
       " u'Alabama',\n",
       " u'Aladdin',\n",
       " u'Alarmed',\n",
       " u'Alas',\n",
       " u'Albatross',\n",
       " u'Albemarle',\n",
       " u'Albert',\n",
       " u'Albicore',\n",
       " u'Albino',\n",
       " u'Aldrovandi',\n",
       " u'Aldrovandus',\n",
       " u'Alexander',\n",
       " u'Alexanders',\n",
       " u'Alfred',\n",
       " u'Algerine',\n",
       " u'Algiers',\n",
       " u'Alike',\n",
       " u'Alive',\n",
       " u'All',\n",
       " u'Alleghanian',\n",
       " u'Alleghanies',\n",
       " u'Alley',\n",
       " u'Almanack',\n",
       " u'Almighty',\n",
       " u'Almost',\n",
       " u'Aloft',\n",
       " u'Alone',\n",
       " u'Alps',\n",
       " u'Already',\n",
       " u'Also',\n",
       " u'Am',\n",
       " u'Ambergriese',\n",
       " u'Ambergris',\n",
       " u'Amelia',\n",
       " u'America',\n",
       " u'American',\n",
       " u'Americans',\n",
       " u'Americas',\n",
       " u'Amittai',\n",
       " u'Among',\n",
       " u'Amsterdam',\n",
       " u'An',\n",
       " u'Anacharsis',\n",
       " u'Anak',\n",
       " u'Anatomist',\n",
       " u'And',\n",
       " u'Andes',\n",
       " u'Andrew',\n",
       " u'Andromeda',\n",
       " u'Angel',\n",
       " u'Angelo',\n",
       " u'Angels',\n",
       " u'Animated',\n",
       " u'Annawon',\n",
       " u'Anne',\n",
       " u'Anno',\n",
       " u'Anomalous',\n",
       " u'Another',\n",
       " u'Answer',\n",
       " u'Antarctic',\n",
       " u'Antilles',\n",
       " u'Antiochus',\n",
       " u'Antony',\n",
       " u'Antwerp',\n",
       " u'Anvil',\n",
       " u'Any',\n",
       " u'Anyhow',\n",
       " u'Anything',\n",
       " u'Anyway',\n",
       " u'Apollo',\n",
       " u'Apoplexy',\n",
       " u'Applied',\n",
       " u'Apply',\n",
       " u'April',\n",
       " u'Aquarius',\n",
       " u'Arch',\n",
       " u'Archbishop',\n",
       " u'Arched',\n",
       " u'Archer',\n",
       " u'Archipelagoes',\n",
       " u'Archy',\n",
       " u'Arctic',\n",
       " u'Are',\n",
       " u'Arethusa',\n",
       " u'Argo',\n",
       " u'Aries',\n",
       " u'Arion',\n",
       " u'Aristotle',\n",
       " u'Ark',\n",
       " u'Arkansas',\n",
       " u'Arkite',\n",
       " u'Arm',\n",
       " u'Armada',\n",
       " u'Arnold',\n",
       " u'Aroostook',\n",
       " u'Around',\n",
       " u'Arrayed',\n",
       " u'Arrived',\n",
       " u'Arsacidean',\n",
       " u'Arsacides',\n",
       " u'Art',\n",
       " u'Artedi',\n",
       " u'Arter',\n",
       " u'Articles',\n",
       " u'As',\n",
       " u'Asa',\n",
       " u'Ashantee',\n",
       " u'Ashore',\n",
       " u'Asia',\n",
       " u'Asiatic',\n",
       " u'Asiatics',\n",
       " u'Aside',\n",
       " u'Asphaltites',\n",
       " u'Assaulted',\n",
       " u'Assume',\n",
       " u'Assuming',\n",
       " u'Assuredly',\n",
       " u'Assyrian',\n",
       " u'Astern',\n",
       " u'Astir',\n",
       " u'Astronomy',\n",
       " u'At',\n",
       " u'Atlantic',\n",
       " u'Atlantics',\n",
       " u'Attached',\n",
       " u'Attend',\n",
       " u'August',\n",
       " u'Aunt',\n",
       " u'Australia',\n",
       " u'Australian',\n",
       " u'Austrian',\n",
       " u'Author',\n",
       " u'Authors',\n",
       " u'Auto',\n",
       " u'Availing',\n",
       " u'Avast',\n",
       " u'Avatar',\n",
       " u'Aware',\n",
       " u'Away',\n",
       " u'Awful',\n",
       " u'Ay',\n",
       " u'Aye',\n",
       " u'Azores',\n",
       " u'BACK',\n",
       " u'BACKED',\n",
       " u'BACON',\n",
       " u'BALEINE',\n",
       " u'BALLENA',\n",
       " u'BANKS',\n",
       " u'BARON',\n",
       " u'BATTLE',\n",
       " u'BE',\n",
       " u'BEALE',\n",
       " u'BEFORE',\n",
       " u'BEING',\n",
       " u'BELFAST',\n",
       " u'BELOW',\n",
       " u'BENCH',\n",
       " u'BENNETT',\n",
       " u'BERMUDAS',\n",
       " u'BETWEEN',\n",
       " u'BEWARE',\n",
       " u'BIOGRAPHY',\n",
       " u'BIT',\n",
       " u'BLACK',\n",
       " u'BLACKSMITH',\n",
       " u'BLACKSTONE',\n",
       " u'BLOOD',\n",
       " u'BLOODY',\n",
       " u'BLOWS',\n",
       " u'BOARD',\n",
       " u'BOAT',\n",
       " u'BOATS',\n",
       " u'BOOK',\n",
       " u'BOOKS',\n",
       " u'BOSOM',\n",
       " u'BOTTOM',\n",
       " u'BOUTON',\n",
       " u'BRACE',\n",
       " u'BRACTON',\n",
       " u'BREACH',\n",
       " u'BREAKERS',\n",
       " u'BREAKWATER',\n",
       " u'BRIT',\n",
       " u'BROKE',\n",
       " u'BROTHER',\n",
       " u'BROWN',\n",
       " u'BROWNE',\n",
       " u'BURKE',\n",
       " u'BURST',\n",
       " u'BUSILY',\n",
       " u'BY',\n",
       " u'Babel',\n",
       " u'Babylon',\n",
       " u'Babylonian',\n",
       " u'Bachelor',\n",
       " u'Back',\n",
       " u'Backs',\n",
       " u'Bad',\n",
       " u'Baden',\n",
       " u'Bag',\n",
       " u'Balaene',\n",
       " u'Baliene',\n",
       " u'Baling',\n",
       " u'Bally',\n",
       " u'Baltic',\n",
       " u'Baltimore',\n",
       " u'Bamboo',\n",
       " u'Bang',\n",
       " u'Banks',\n",
       " u'Barbary',\n",
       " u'Bare',\n",
       " u'Bargain',\n",
       " u'Baron',\n",
       " u'Barrens',\n",
       " u'Bartholomew',\n",
       " u'Base',\n",
       " u'Bashaw',\n",
       " u'Bashee',\n",
       " u'Basilosaurus',\n",
       " u'Bastille',\n",
       " u'Battering',\n",
       " u'Battery',\n",
       " u'Bay',\n",
       " u'Bays',\n",
       " u'Be',\n",
       " u'Beach',\n",
       " u'Beale',\n",
       " u'Beams',\n",
       " u'Bear',\n",
       " u'Bears',\n",
       " u'Beat',\n",
       " u'Because',\n",
       " u'Becket',\n",
       " u'Bedford',\n",
       " u'Beelzebub',\n",
       " u'Befooled',\n",
       " u'Before',\n",
       " u'Begone',\n",
       " u'Behold',\n",
       " u'Behring',\n",
       " u'Being',\n",
       " u'Belated',\n",
       " u'Belial',\n",
       " u'Believe',\n",
       " u'Belisarius',\n",
       " u'Bell',\n",
       " u'Bellies',\n",
       " u'Beloved',\n",
       " u'Below',\n",
       " u'Belshazzar',\n",
       " u'Belubed',\n",
       " u'Bench',\n",
       " u'Bendigoes',\n",
       " u'Beneath',\n",
       " u'Bengal',\n",
       " u'Benjamin',\n",
       " u'Bennett',\n",
       " u'Bentham',\n",
       " u'Berkshire',\n",
       " u'Berlin',\n",
       " u'Bernard',\n",
       " u'Besides',\n",
       " u'Bess',\n",
       " u'Best',\n",
       " u'Bestow',\n",
       " u'Bethink',\n",
       " u'Better',\n",
       " u'Betty',\n",
       " u'Between',\n",
       " u'Beware',\n",
       " u'Beyond',\n",
       " u'Bible',\n",
       " u'Bibles',\n",
       " u'Bibliographical',\n",
       " u'Bildad',\n",
       " u'Biographical',\n",
       " u'Birmah',\n",
       " u'Bishop',\n",
       " u'Bite',\n",
       " u'Black',\n",
       " u'Blacksmith',\n",
       " u'Blackstone',\n",
       " u'Blanc',\n",
       " u'Blanche',\n",
       " u'Blanco',\n",
       " u'Blang',\n",
       " u'Blanket',\n",
       " u'Blast',\n",
       " u'Bless',\n",
       " u'Blind',\n",
       " u'Blinding',\n",
       " u'Blocksburg',\n",
       " u'Blood',\n",
       " u'Bloody',\n",
       " u'Blue',\n",
       " u'Boat',\n",
       " u'Boats',\n",
       " u'Bobbing',\n",
       " u'Bolivia',\n",
       " u'Bombay',\n",
       " u'Bonapartes',\n",
       " u'Bone',\n",
       " u'Bones',\n",
       " u'Bonneterre',\n",
       " u'Booble',\n",
       " u'Book',\n",
       " u'Boomer',\n",
       " u'Boone',\n",
       " u'Bordeaux',\n",
       " u'Borean',\n",
       " u'Born',\n",
       " u'Borneo',\n",
       " u'Bosom',\n",
       " u'Boston',\n",
       " u'Both',\n",
       " u'Bottle',\n",
       " u'Bottom',\n",
       " u'Bourbons',\n",
       " u'Bout',\n",
       " u'Bouton',\n",
       " u'Bowditch',\n",
       " u'Bower',\n",
       " u'Boy',\n",
       " u'Boys',\n",
       " u'Brace',\n",
       " u'Brahma',\n",
       " u'Brahmins',\n",
       " u'Brandreth',\n",
       " u'Brazil',\n",
       " u'Breakfast',\n",
       " u'Bremen',\n",
       " u'Bress',\n",
       " u'Bridge',\n",
       " u'Brighggians',\n",
       " u'Bright',\n",
       " u'Bring',\n",
       " u'Brisson',\n",
       " u'Brit',\n",
       " u'Britain',\n",
       " u'British',\n",
       " u'Britons',\n",
       " u'Broad',\n",
       " u'Broadway',\n",
       " u'Broke',\n",
       " u'Brother',\n",
       " u'Browne',\n",
       " u'Brute',\n",
       " u'Buckets',\n",
       " u'Bud',\n",
       " u'Buffalo',\n",
       " u'Bulkington',\n",
       " u'Bull',\n",
       " u'Bulwarks',\n",
       " u'Bunger',\n",
       " u'Bungle',\n",
       " u'Bunyan',\n",
       " u'Buoy',\n",
       " u'Buoyed',\n",
       " u'Burke',\n",
       " u'Burkes',\n",
       " u'Burst',\n",
       " u'Burton',\n",
       " u'Burtons',\n",
       " u'Business',\n",
       " u'But',\n",
       " u'Butchers',\n",
       " u'Butler',\n",
       " u'By',\n",
       " u'Byward',\n",
       " u'C',\n",
       " u'CABIN',\n",
       " u'CABINET',\n",
       " u'CANNY',\n",
       " u'CAP',\n",
       " u'CAPTAIN',\n",
       " u'CAPTAINS',\n",
       " u'CAPTORS',\n",
       " u'CARPENTER',\n",
       " u'CATCHES',\n",
       " u'CAULKING',\n",
       " u'CEASE',\n",
       " u'CETI',\n",
       " u'CETUS',\n",
       " u'CHACE',\n",
       " u'CHAPTER',\n",
       " u'CHAPTERS',\n",
       " u'CHARLES',\n",
       " u'CHEERLY',\n",
       " u'CHEEVER',\n",
       " u'CHIEF',\n",
       " u'CHINA',\n",
       " u'CHOP',\n",
       " u'CHORUS',\n",
       " u'CHRONICLER',\n",
       " u'CIRCUMNAVIGATION',\n",
       " u'CLEAN',\n",
       " u'CLOSES',\n",
       " u'CLUSTERS',\n",
       " u'COFFIN',\n",
       " u'COILS',\n",
       " u'COLEMAN',\n",
       " u'COLL',\n",
       " u'COLNETT',\n",
       " u'COMES',\n",
       " u'COMMERCIAL',\n",
       " u'COMMODORE',\n",
       " u'COMSTOCK',\n",
       " u'CONTESTED',\n",
       " u'CONTINUES',\n",
       " u'CONVERSATIONS',\n",
       " u'COOK',\n",
       " u'COOPER',\n",
       " u'COWLEY',\n",
       " u'COWPER',\n",
       " u'CREWS',\n",
       " u'CROW',\n",
       " u'CRUISE',\n",
       " u'CRUISING',\n",
       " u'CRUIZE',\n",
       " u'CURRENTS',\n",
       " u'CUVIER',\n",
       " u'Cabaco',\n",
       " u'Cabin',\n",
       " u'Cachalot',\n",
       " u'Cadiz',\n",
       " u'Caesar',\n",
       " u'Caesarian',\n",
       " u'Cain',\n",
       " u'Calais',\n",
       " u'Californian',\n",
       " u'Call',\n",
       " u'Callao',\n",
       " u'Cambyses',\n",
       " u'Camel',\n",
       " u'Campagna',\n",
       " u'Can',\n",
       " u'Canaan',\n",
       " u'Canada',\n",
       " u'Canadian',\n",
       " u'Canal',\n",
       " u'Canaller',\n",
       " u'Canallers',\n",
       " u'Canals',\n",
       " u'Canaris',\n",
       " u'Cancer',\n",
       " u'Candles',\n",
       " u'Cannibal',\n",
       " u'Cannibals',\n",
       " u'Cannon',\n",
       " u'Canst',\n",
       " u'Cant',\n",
       " u'Canterbury',\n",
       " u'Cap',\n",
       " u'Cape',\n",
       " u'Capes',\n",
       " u'Capricornus',\n",
       " u'Captain',\n",
       " u'Captains',\n",
       " u'Capting',\n",
       " u'Caramba',\n",
       " u'Careful',\n",
       " u'Carefully',\n",
       " u'Carey',\n",
       " u'Carpenter',\n",
       " u'Carpet',\n",
       " u'Carrol',\n",
       " u'Carson',\n",
       " u'Carthage',\n",
       " u'Caryatid',\n",
       " u'Case',\n",
       " u'Cash',\n",
       " u'Cassock',\n",
       " u'Castaway',\n",
       " u'Castle',\n",
       " u'Categut',\n",
       " u'Cathedral',\n",
       " u'Catholic',\n",
       " u'Cato',\n",
       " u'Catskill',\n",
       " u'Cattegat',\n",
       " u'Caught',\n",
       " u'Cave',\n",
       " u'Caw',\n",
       " u'Cellini',\n",
       " u'Central',\n",
       " u'Certain',\n",
       " u'Certainly',\n",
       " u'Cervantes',\n",
       " u'Cetacea',\n",
       " u'Cetacean',\n",
       " u'Cetology',\n",
       " u'Cetus',\n",
       " u'Ceylon',\n",
       " u'Chace',\n",
       " u'Chaldee',\n",
       " u'Champagne',\n",
       " u'Champollion',\n",
       " u'Channel',\n",
       " u'Chapel',\n",
       " u'Charing',\n",
       " u'Charity',\n",
       " u'Charlemagne',\n",
       " u'Charley',\n",
       " u'Chart',\n",
       " u'Chartering',\n",
       " u'Chase',\n",
       " u'Cheever',\n",
       " u'Cherries',\n",
       " u'Chestnut',\n",
       " u'Chief',\n",
       " u'Childe',\n",
       " u'Chili',\n",
       " u'Chilian',\n",
       " u'China',\n",
       " u'Chinese',\n",
       " u'Cholo',\n",
       " u'Chowder',\n",
       " u'Christ',\n",
       " u'Christendom',\n",
       " u'Christian',\n",
       " u'Christianity',\n",
       " u'Christians',\n",
       " u'Christmas',\n",
       " u'Church',\n",
       " u'Cinque',\n",
       " u'Circassian',\n",
       " u'Circumambulate',\n",
       " u'Cistern',\n",
       " u'Civitas',\n",
       " u'Clam',\n",
       " u'Clap',\n",
       " u'Claus',\n",
       " u'Clay',\n",
       " u'Clear',\n",
       " u'Clearing',\n",
       " u'Cleopatra',\n",
       " u'Cleveland',\n",
       " u'Clifford',\n",
       " u'Clinging',\n",
       " u'Clootz',\n",
       " u'Close',\n",
       " u'Closing',\n",
       " u'Cloud',\n",
       " u'Cluny',\n",
       " u'Coast',\n",
       " u'Cock',\n",
       " u'Cockatoo',\n",
       " u'Cod',\n",
       " u'Cods',\n",
       " u'Coenties',\n",
       " u'Coffin',\n",
       " u'Coffins',\n",
       " u'Cognac',\n",
       " u'Coke',\n",
       " u'Cold',\n",
       " u'Coleman',\n",
       " u'Coleridge',\n",
       " u'College',\n",
       " u'Colnett',\n",
       " u'Cologne',\n",
       " u'Colonies',\n",
       " u'Colossus',\n",
       " u'Columbus',\n",
       " u'Come',\n",
       " u'Coming',\n",
       " u'Commanded',\n",
       " u'Commanders',\n",
       " u'Commend',\n",
       " u'Commodore',\n",
       " u'Commodores',\n",
       " u'Common',\n",
       " u'Commonly',\n",
       " u'Commons',\n",
       " u'Commonwealth',\n",
       " u'Companies',\n",
       " u'Comparing',\n",
       " u'Concerning',\n",
       " u'Congo',\n",
       " u'Congregation',\n",
       " u'Congregational',\n",
       " u'Conjuror',\n",
       " u'Connecticut',\n",
       " u'Consequently',\n",
       " u'Consider',\n",
       " u'Considering',\n",
       " u'Constable',\n",
       " u'Constantine',\n",
       " u'Constantinople',\n",
       " u'Consumptive',\n",
       " u'Continents',\n",
       " u'Contrasted',\n",
       " u'Conversation',\n",
       " u'Convulsively',\n",
       " u'Cook',\n",
       " u'Cooke',\n",
       " u'Cooks',\n",
       " u'Cooper',\n",
       " u'Coopman',\n",
       " u'Copenhagen',\n",
       " u'Coppered',\n",
       " u'Corinthians',\n",
       " u'Corkscrew',\n",
       " u'Corlaer',\n",
       " u'Corlears',\n",
       " u'Coronation',\n",
       " u'Corresponding',\n",
       " u'Corrupt',\n",
       " u'Cough',\n",
       " u'Could',\n",
       " u'Count',\n",
       " u'Counterpane',\n",
       " u'County',\n",
       " u'Court',\n",
       " u'Cousin',\n",
       " u'Cowper',\n",
       " u'Crab',\n",
       " u'Crack',\n",
       " u'Crammer',\n",
       " u'Crappo',\n",
       " u'Crappoes',\n",
       " u'Crazed',\n",
       " u'Creagh',\n",
       " u'Created',\n",
       " u'Cretan',\n",
       " u'Crete',\n",
       " ...]"
      ]
     },
     "execution_count": 15,
     "metadata": {},
     "output_type": "execute_result"
    }
   ],
   "source": [
    "# List the words in Moby Dick in hour\n",
    "sorted(set(text1))"
   ]
  },
  {
   "cell_type": "markdown",
   "metadata": {},
   "source": [
    "### Analyzing Particular Tokens"
   ]
  },
  {
   "cell_type": "code",
   "execution_count": 25,
   "metadata": {
    "collapsed": true
   },
   "outputs": [],
   "source": [
    "# Define functinos to anaylze tokens\n",
    "\n",
    "def lexical_diversity(text):\n",
    "    # Computes how lexically diverse is a body of text\n",
    "    # text: A corpus\n",
    "    \n",
    "    return len(set(text)) / len(text)\n",
    "\n",
    "def percentage(count, total):\n",
    "    # computs percentage\n",
    "    return 100 * count / total\n",
    "\n",
    "def word_percentage(word, corpus):\n",
    "    # Computes percentage of word occurring in corpus\n",
    "    # word: character token\n",
    "    # corpus: corpus of text\n",
    "    \n",
    "    count = corpus.count(word)\n",
    "    return 100 * count / len(corpus)"
   ]
  },
  {
   "cell_type": "code",
   "execution_count": 17,
   "metadata": {
    "collapsed": false
   },
   "outputs": [
    {
     "data": {
      "text/plain": [
       "0.003473673313677301"
      ]
     },
     "execution_count": 17,
     "metadata": {},
     "output_type": "execute_result"
    }
   ],
   "source": [
    "# Count number of times \"whale\" occurs in Moby Dick\n",
    "text1.count(\"whale\")"
   ]
  },
  {
   "cell_type": "code",
   "execution_count": 21,
   "metadata": {
    "collapsed": false
   },
   "outputs": [
    {
     "data": {
      "text/plain": [
       "0.3473673313677301"
      ]
     },
     "execution_count": 21,
     "metadata": {},
     "output_type": "execute_result"
    }
   ],
   "source": [
    "# Proportion of text taken up by specific word \n",
    "100 * text1.count(\"whale\")/len(text1)"
   ]
  },
  {
   "cell_type": "code",
   "execution_count": 26,
   "metadata": {
    "collapsed": false
   },
   "outputs": [
    {
     "data": {
      "text/plain": [
       "1.5640968673628082"
      ]
     },
     "execution_count": 26,
     "metadata": {},
     "output_type": "execute_result"
    }
   ],
   "source": [
    "# Count percentage of \"lol\" use in text5\n",
    "word_percentage(\"lol\", text5)"
   ]
  },
  {
   "cell_type": "code",
   "execution_count": 42,
   "metadata": {
    "collapsed": false
   },
   "outputs": [
    {
     "data": {
      "text/plain": [
       "0.04826383002768831"
      ]
     },
     "execution_count": 42,
     "metadata": {},
     "output_type": "execute_result"
    }
   ],
   "source": [
    "# Lexical diversity of texts\n",
    "lexical_diversity(text1)\n",
    "lexical_diversity(text2)"
   ]
  },
  {
   "cell_type": "markdown",
   "metadata": {},
   "source": [
    "the moment Python accesses the content of a list from the computer's memory, it is already at the first element; we have to tell it how many elements forward to go. Thus, zero steps forward leaves it at the first element."
   ]
  },
  {
   "cell_type": "markdown",
   "metadata": {},
   "source": [
    "# Computing with Language: Simple Statistics"
   ]
  },
  {
   "cell_type": "markdown",
   "metadata": {},
   "source": [
    "* ### Frequency"
   ]
  },
  {
   "cell_type": "code",
   "execution_count": 85,
   "metadata": {
    "collapsed": false
   },
   "outputs": [
    {
     "name": "stdout",
     "output_type": "stream",
     "text": [
      "<FreqDist with 19317 samples and 260819 outcomes>\n"
     ]
    }
   ],
   "source": [
    "# Create Frequency Distribution of words in Moby dick\n",
    "fdist1 = FreqDist(text1)\n",
    "print fdist1"
   ]
  },
  {
   "cell_type": "code",
   "execution_count": 90,
   "metadata": {
    "collapsed": false
   },
   "outputs": [
    {
     "data": {
      "text/plain": [
       "[(u',', 18713),\n",
       " (u'the', 13721),\n",
       " (u'.', 6862),\n",
       " (u'of', 6536),\n",
       " (u'and', 6024),\n",
       " (u'a', 4569),\n",
       " (u'to', 4542),\n",
       " (u';', 4072),\n",
       " (u'in', 3916),\n",
       " (u'that', 2982)]"
      ]
     },
     "execution_count": 90,
     "metadata": {},
     "output_type": "execute_result"
    }
   ],
   "source": [
    "# Find the 10 most common words in the frequency distribution\n",
    "fdist1.most_common(10)"
   ]
  },
  {
   "cell_type": "code",
   "execution_count": 92,
   "metadata": {
    "collapsed": false
   },
   "outputs": [
    {
     "name": "stdout",
     "output_type": "stream",
     "text": [
      "906\n"
     ]
    }
   ],
   "source": [
    "# Count number of times whale appears\n",
    "print fdist1['whale']"
   ]
  },
  {
   "cell_type": "code",
   "execution_count": null,
   "metadata": {
    "collapsed": true
   },
   "outputs": [],
   "source": [
    "fdist1.plot(40)"
   ]
  },
  {
   "cell_type": "markdown",
   "metadata": {},
   "source": [
    "* **Happaxes**: Words that occur very infrequently."
   ]
  },
  {
   "cell_type": "code",
   "execution_count": null,
   "metadata": {
    "collapsed": true
   },
   "outputs": [],
   "source": [
    "fdist1.hapaxes()"
   ]
  },
  {
   "cell_type": "code",
   "execution_count": 15,
   "metadata": {
    "collapsed": false
   },
   "outputs": [
    {
     "data": {
      "text/plain": [
       "[u'incomprehensible',\n",
       " u'disqualifications',\n",
       " u'disinterestedness',\n",
       " u'companionableness']"
      ]
     },
     "execution_count": 15,
     "metadata": {},
     "output_type": "execute_result"
    }
   ],
   "source": [
    "# View very long words in Sense and Sensibility\n",
    "V = set(text2)\n",
    "long_words = [w for w in V if len(w) > 15]\n",
    "long_words"
   ]
  },
  {
   "cell_type": "code",
   "execution_count": 18,
   "metadata": {
    "collapsed": false
   },
   "outputs": [
    {
     "data": {
      "text/plain": [
       "[u'#14-19teens',\n",
       " u'#talkcity_adults',\n",
       " u'((((((((((',\n",
       " u'........',\n",
       " u'actually',\n",
       " u'everyone',\n",
       " u'listening',\n",
       " u'seriously',\n",
       " u'something']"
      ]
     },
     "execution_count": 18,
     "metadata": {},
     "output_type": "execute_result"
    }
   ],
   "source": [
    "fdist5 = FreqDist(text5)\n",
    "sorted(w for w in set(text5) if len(w) > 7 and fdist5[w] > 10)"
   ]
  },
  {
   "cell_type": "markdown",
   "metadata": {},
   "source": [
    "## Collocations and Bigrams"
   ]
  },
  {
   "cell_type": "markdown",
   "metadata": {},
   "source": [
    "* **Collocation**: A sequence of words that occur together unusually often. Thus red wine is a collocation, whereas the wine is not. A characteristic of collocations is that they are resistant to substitution with words that have similar senses."
   ]
  },
  {
   "cell_type": "code",
   "execution_count": 32,
   "metadata": {
    "collapsed": false
   },
   "outputs": [
    {
     "data": {
      "text/plain": [
       "[('more', 'is'), ('is', 'said'), ('said', 'than'), ('than', 'done')]"
      ]
     },
     "execution_count": 32,
     "metadata": {},
     "output_type": "execute_result"
    }
   ],
   "source": [
    "list(bigrams(['more','is','said','than','done']))"
   ]
  },
  {
   "cell_type": "code",
   "execution_count": 33,
   "metadata": {
    "collapsed": false
   },
   "outputs": [
    {
     "name": "stdout",
     "output_type": "stream",
     "text": [
      "wanna chat; PART JOIN; MODE #14-19teens; JOIN PART; PART PART;\n",
      "cute.-ass MP3; MP3 player; JOIN JOIN; times .. .; ACTION watches; guys\n",
      "wanna; song lasts; last night; ACTION sits; -...)...- S.M.R.; Lime\n",
      "Player; Player 12%; dont know; lez gurls; long time\n"
     ]
    }
   ],
   "source": [
    "text5.collocations()"
   ]
  },
  {
   "cell_type": "markdown",
   "metadata": {},
   "source": [
    "# Counting Other Things"
   ]
  },
  {
   "cell_type": "code",
   "execution_count": 35,
   "metadata": {
    "collapsed": false
   },
   "outputs": [
    {
     "data": {
      "text/plain": [
       "Counter({1: 23009,\n",
       "         2: 24826,\n",
       "         3: 28839,\n",
       "         4: 21352,\n",
       "         5: 11438,\n",
       "         6: 9507,\n",
       "         7: 8158,\n",
       "         8: 5676,\n",
       "         9: 3736,\n",
       "         10: 2596,\n",
       "         11: 1278,\n",
       "         12: 711,\n",
       "         13: 334,\n",
       "         14: 87,\n",
       "         15: 24,\n",
       "         16: 2,\n",
       "         17: 3})"
      ]
     },
     "execution_count": 35,
     "metadata": {},
     "output_type": "execute_result"
    }
   ],
   "source": [
    "# Create Frequency Distribution of word length\n",
    "fdist_word1 = FreqDist([len(w) for w in text2])\n",
    "fdist_word1"
   ]
  },
  {
   "cell_type": "code",
   "execution_count": 40,
   "metadata": {
    "collapsed": false
   },
   "outputs": [
    {
     "data": {
      "text/plain": [
       "0.20369977962366503"
      ]
     },
     "execution_count": 40,
     "metadata": {},
     "output_type": "execute_result"
    }
   ],
   "source": [
    "fdist_word1.freq(3)"
   ]
  },
  {
   "cell_type": "code",
   "execution_count": 39,
   "metadata": {
    "collapsed": false
   },
   "outputs": [
    {
     "data": {
      "text/plain": [
       "[(3, 28839),\n",
       " (2, 24826),\n",
       " (1, 23009),\n",
       " (4, 21352),\n",
       " (5, 11438),\n",
       " (6, 9507),\n",
       " (7, 8158),\n",
       " (8, 5676),\n",
       " (9, 3736),\n",
       " (10, 2596),\n",
       " (11, 1278),\n",
       " (12, 711),\n",
       " (13, 334),\n",
       " (14, 87),\n",
       " (15, 24),\n",
       " (17, 3),\n",
       " (16, 2)]"
      ]
     },
     "execution_count": 39,
     "metadata": {},
     "output_type": "execute_result"
    }
   ],
   "source": [
    "fdist_word1.most_common()"
   ]
  },
  {
   "cell_type": "code",
   "execution_count": null,
   "metadata": {
    "collapsed": true
   },
   "outputs": [],
   "source": []
  }
 ],
 "metadata": {
  "kernelspec": {
   "display_name": "Python 2",
   "language": "python",
   "name": "python2"
  },
  "language_info": {
   "codemirror_mode": {
    "name": "ipython",
    "version": 2
   },
   "file_extension": ".py",
   "mimetype": "text/x-python",
   "name": "python",
   "nbconvert_exporter": "python",
   "pygments_lexer": "ipython2",
   "version": "2.7.12"
  }
 },
 "nbformat": 4,
 "nbformat_minor": 0
}
