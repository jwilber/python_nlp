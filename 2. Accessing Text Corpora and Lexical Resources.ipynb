{
 "cells": [
  {
   "cell_type": "markdown",
   "metadata": {},
   "source": [
    "# 2. Accessing Text Corpora and Lexical Resources"
   ]
  },
  {
   "cell_type": "code",
   "execution_count": 17,
   "metadata": {
    "collapsed": true
   },
   "outputs": [],
   "source": [
    "import nltk\n",
    "from __future__ import division"
   ]
  },
  {
   "cell_type": "markdown",
   "metadata": {},
   "source": [
    "#### Key Terms:\n",
    "\n",
    "**Corpora**: large bodies of linguistic data\n",
    "\n",
    "**Text Corpus**: just a large body of text"
   ]
  },
  {
   "cell_type": "markdown",
   "metadata": {},
   "source": [
    "## 1.   Accessing Text Corpora\n",
    "\n"
   ]
  },
  {
   "cell_type": "markdown",
   "metadata": {},
   "source": [
    "### 1.1   Gutenberg Corpus"
   ]
  },
  {
   "cell_type": "code",
   "execution_count": 4,
   "metadata": {
    "collapsed": false
   },
   "outputs": [
    {
     "data": {
      "text/plain": [
       "[u'austen-emma.txt',\n",
       " u'austen-persuasion.txt',\n",
       " u'austen-sense.txt',\n",
       " u'bible-kjv.txt',\n",
       " u'blake-poems.txt',\n",
       " u'bryant-stories.txt',\n",
       " u'burgess-busterbrown.txt',\n",
       " u'carroll-alice.txt',\n",
       " u'chesterton-ball.txt',\n",
       " u'chesterton-brown.txt',\n",
       " u'chesterton-thursday.txt',\n",
       " u'edgeworth-parents.txt',\n",
       " u'melville-moby_dick.txt',\n",
       " u'milton-paradise.txt',\n",
       " u'shakespeare-caesar.txt',\n",
       " u'shakespeare-hamlet.txt',\n",
       " u'shakespeare-macbeth.txt',\n",
       " u'whitman-leaves.txt']"
      ]
     },
     "execution_count": 4,
     "metadata": {},
     "output_type": "execute_result"
    }
   ],
   "source": [
    "nltk.corpus.gutenberg.fileids()"
   ]
  },
  {
   "cell_type": "code",
   "execution_count": 12,
   "metadata": {
    "collapsed": false
   },
   "outputs": [
    {
     "name": "stdout",
     "output_type": "stream",
     "text": [
      "Displaying 25 of 37 matches:\n",
      "er father , was sometimes taken by surprize at his being still able to pity ` \n",
      "hem do the other any good .\" \" You surprize me ! Emma must do Harriet good : a\n",
      "Knightley actually looked red with surprize and displeasure , as he stood up ,\n",
      "r . Elton , and found to his great surprize , that Mr . Elton was actually on \n",
      "d aid .\" Emma saw Mrs . Weston ' s surprize , and felt that it must be great ,\n",
      "father was quite taken up with the surprize of so sudden a journey , and his f\n",
      "y , in all the favouring warmth of surprize and conjecture . She was , moreove\n",
      "he appeared , to have her share of surprize , introduction , and pleasure . Th\n",
      "ir plans ; and it was an agreeable surprize to her , therefore , to perceive t\n",
      "talking aunt had taken me quite by surprize , it must have been the death of m\n",
      "f all the dialogue which ensued of surprize , and inquiry , and congratulation\n",
      " the present . They might chuse to surprize her .\" Mrs . Cole had many to agre\n",
      "the mode of it , the mystery , the surprize , is more like a young woman ' s s\n",
      " to her song took her agreeably by surprize -- a second , slightly but correct\n",
      "\" \" Oh ! no -- there is nothing to surprize one at all .-- A pretty fortune ; \n",
      "t to be considered . Emma ' s only surprize was that Jane Fairfax should accep\n",
      "of your admiration may take you by surprize some day or other .\" Mr . Knightle\n",
      "ation for her will ever take me by surprize .-- I never had a thought of her i\n",
      " expected by the best judges , for surprize -- but there was great joy . Mr . \n",
      " sound of at first , without great surprize . \" So unreasonably early !\" she w\n",
      "d Frank Churchill , with a look of surprize and displeasure .-- \" That is easy\n",
      "; and Emma could imagine with what surprize and mortification she must be retu\n",
      "tled that Jane should go . Quite a surprize to me ! I had not the least idea !\n",
      " . It is impossible to express our surprize . He came to speak to his father o\n",
      "g engaged !\" Emma even jumped with surprize ;-- and , horror - struck , exclai\n"
     ]
    }
   ],
   "source": [
    "# Select and rename \"Emma\" by Jane Austen\n",
    "emma = nltk.corpus.gutenberg.words('austen-emma.txt')\n",
    "\n",
    "# Find concordance of \"surprize\" in the text\n",
    "    # first make emma an nltk.Text object so we can call .concordance method\n",
    "emma = nltk.Text(nltk.corpus.gutenberg.words('austen-emma.txt'))\n",
    "# call method\n",
    "emma.concordance(\"surprize\")"
   ]
  },
  {
   "cell_type": "code",
   "execution_count": 28,
   "metadata": {
    "collapsed": false
   },
   "outputs": [
    {
     "data": {
      "text/plain": [
       "[u'[', u'Emma', u'by', u'Jane', u'Austen', u'1816', ...]"
      ]
     },
     "execution_count": 28,
     "metadata": {},
     "output_type": "execute_result"
    }
   ],
   "source": [
    "# the above is cumbersome, so we'll import gutenberg directly\n",
    "from nltk.corpus import gutenberg\n",
    "gutenberg.fileids()\n",
    "emma = gutenberg.words('austen-emma.txt')\n",
    "emma"
   ]
  },
  {
   "cell_type": "markdown",
   "metadata": {},
   "source": [
    "#### Create basic statistics for each gutenberg text"
   ]
  },
  {
   "cell_type": "code",
   "execution_count": 30,
   "metadata": {
    "collapsed": false
   },
   "outputs": [
    {
     "name": "stdout",
     "output_type": "stream",
     "text": [
      "Average Word Length:  5.0 Average Sentence Length 25.0 Lexical Density:  26.2019335512 Text:  austen-emma.txt\n",
      "Average Word Length:  5.0 Average Sentence Length 26.0 Lexical Density:  16.8245072836 Text:  austen-persuasion.txt\n",
      "Average Word Length:  5.0 Average Sentence Length 28.0 Lexical Density:  22.1108855224 Text:  austen-sense.txt\n",
      "Average Word Length:  4.0 Average Sentence Length 34.0 Lexical Density:  79.1614318164 Text:  bible-kjv.txt\n",
      "Average Word Length:  5.0 Average Sentence Length 19.0 Lexical Density:  5.44234527687 Text:  blake-poems.txt\n",
      "Average Word Length:  4.0 Average Sentence Length 19.0 Lexical Density:  14.102284264 Text:  bryant-stories.txt\n",
      "Average Word Length:  4.0 Average Sentence Length 18.0 Lexical Density:  12.1635663887 Text:  burgess-busterbrown.txt\n",
      "Average Word Length:  4.0 Average Sentence Length 20.0 Lexical Density:  12.940060698 Text:  carroll-alice.txt\n",
      "Average Word Length:  5.0 Average Sentence Length 20.0 Lexical Density:  11.6371925615 Text:  chesterton-ball.txt\n",
      "Average Word Length:  5.0 Average Sentence Length 23.0 Lexical Density:  11.0422119579 Text:  chesterton-brown.txt\n",
      "Average Word Length:  5.0 Average Sentence Length 18.0 Lexical Density:  10.9014017956 Text:  chesterton-thursday.txt\n",
      "Average Word Length:  4.0 Average Sentence Length 21.0 Lexical Density:  24.9393867645 Text:  edgeworth-parents.txt\n",
      "Average Word Length:  5.0 Average Sentence Length 26.0 Lexical Density:  15.1366142418 Text:  melville-moby_dick.txt\n",
      "Average Word Length:  5.0 Average Sentence Length 52.0 Lexical Density:  10.7332889924 Text:  milton-paradise.txt\n",
      "Average Word Length:  4.0 Average Sentence Length 12.0 Lexical Density:  8.52011873351 Text:  shakespeare-caesar.txt\n",
      "Average Word Length:  4.0 Average Sentence Length 12.0 Lexical Density:  7.9219677693 Text:  shakespeare-hamlet.txt\n",
      "Average Word Length:  4.0 Average Sentence Length 12.0 Lexical Density:  6.68013856813 Text:  shakespeare-macbeth.txt\n",
      "Average Word Length:  5.0 Average Sentence Length 36.0 Lexical Density:  12.4384034693 Text:  whitman-leaves.txt\n"
     ]
    }
   ],
   "source": [
    "# Create basic statistics for each gutenberg text:\n",
    "#   average word length, average sentence length, and lexical density\n",
    "for text in gutenberg.fileids():\n",
    "    num_chars = len(gutenberg.raw(text)) \n",
    "    num_words = len(gutenberg.words(text))\n",
    "    num_sent = len(gutenberg.sents(text))\n",
    "    num_vocab = len(set(w.lower() for w in gutenberg.words(text)))\n",
    "    print \"Average Word Length: \", round(num_chars/num_words),\"Average Sentence Length\", round(num_words/num_sent), \"Lexical Density: \", num_words/num_vocab,\"Text: \", text"
   ]
  },
  {
   "cell_type": "markdown",
   "metadata": {},
   "source": [
    "* Observe that average word length appears to be a general property of English, as it remains constant for the authors\n",
    "* Lexical density and average sentence length appear to be author-dependent."
   ]
  },
  {
   "cell_type": "code",
   "execution_count": 37,
   "metadata": {
    "collapsed": false
   },
   "outputs": [
    {
     "name": "stdout",
     "output_type": "stream",
     "text": [
      "[[u'While', u'he', u'lived', u',', u'it', u'must', u'be', u'only', u'an', u'engagement', u';', u'but', u'she', u'flattered', u'herself', u',', u'that', u'if', u'divested', u'of', u'the', u'danger', u'of', u'drawing', u'her', u'away', u',', u'it', u'might', u'become', u'an', u'increase', u'of', u'comfort', u'to', u'him', u'.--', u'How', u'to', u'do', u'her', u'best', u'by', u'Harriet', u',', u'was', u'of', u'more', u'difficult', u'decision', u';--', u'how', u'to', u'spare', u'her', u'from', u'any', u'unnecessary', u'pain', u';', u'how', u'to', u'make', u'her', u'any', u'possible', u'atonement', u';', u'how', u'to', u'appear', u'least', u'her', u'enemy', u'?--', u'On', u'these', u'subjects', u',', u'her', u'perplexity', u'and', u'distress', u'were', u'very', u'great', u'--', u'and', u'her', u'mind', u'had', u'to', u'pass', u'again', u'and', u'again', u'through', u'every', u'bitter', u'reproach', u'and', u'sorrowful', u'regret', u'that', u'had', u'ever', u'surrounded', u'it', u'.--', u'She', u'could', u'only', u'resolve', u'at', u'last', u',', u'that', u'she', u'would', u'still', u'avoid', u'a', u'meeting', u'with', u'her', u',', u'and', u'communicate', u'all', u'that', u'need', u'be', u'told', u'by', u'letter', u';', u'that', u'it', u'would', u'be', u'inexpressibly', u'desirable', u'to', u'have', u'her', u'removed', u'just', u'now', u'for', u'a', u'time', u'from', u'Highbury', u',', u'and', u'--', u'indulging', u'in', u'one', u'scheme', u'more', u'--', u'nearly', u'resolve', u',', u'that', u'it', u'might', u'be', u'practicable', u'to', u'get', u'an', u'invitation', u'for', u'her', u'to', u'Brunswick', u'Square', u'.--', u'Isabella', u'had', u'been', u'pleased', u'with', u'Harriet', u';', u'and', u'a', u'few', u'weeks', u'spent', u'in', u'London', u'must', u'give', u'her', u'some', u'amusement', u'.--', u'She', u'did', u'not', u'think', u'it', u'in', u'Harriet', u\"'\", u's', u'nature', u'to', u'escape', u'being', u'benefited', u'by', u'novelty', u'and', u'variety', u',', u'by', u'the', u'streets', u',', u'the', u'shops', u',', u'and', u'the', u'children', u'.--', u'At', u'any', u'rate', u',', u'it', u'would', u'be', u'a', u'proof', u'of', u'attention', u'and', u'kindness', u'in', u'herself', u',', u'from', u'whom', u'every', u'thing', u'was', u'due', u';', u'a', u'separation', u'for', u'the', u'present', u';', u'an', u'averting', u'of', u'the', u'evil', u'day', u',', u'when', u'they', u'must', u'all', u'be', u'together', u'again', u'.']]\n",
      "[[u'For', u',', u'though', u'shy', u',', u'he', u'did', u'not', u'seem', u'reserved', u';', u'it', u'had', u'rather', u'the', u'appearance', u'of', u'feelings', u'glad', u'to', u'burst', u'their', u'usual', u'restraints', u';', u'and', u'having', u'talked', u'of', u'poetry', u',', u'the', u'richness', u'of', u'the', u'present', u'age', u',', u'and', u'gone', u'through', u'a', u'brief', u'comparison', u'of', u'opinion', u'as', u'to', u'the', u'first', u'-', u'rate', u'poets', u',', u'trying', u'to', u'ascertain', u'whether', u'Marmion', u'or', u'The', u'Lady', u'of', u'the', u'Lake', u'were', u'to', u'be', u'preferred', u',', u'and', u'how', u'ranked', u'the', u'Giaour', u'and', u'The', u'Bride', u'of', u'Abydos', u';', u'and', u'moreover', u',', u'how', u'the', u'Giaour', u'was', u'to', u'be', u'pronounced', u',', u'he', u'showed', u'himself', u'so', u'intimately', u'acquainted', u'with', u'all', u'the', u'tenderest', u'songs', u'of', u'the', u'one', u'poet', u',', u'and', u'all', u'the', u'impassioned', u'descriptions', u'of', u'hopeless', u'agony', u'of', u'the', u'other', u';', u'he', u'repeated', u',', u'with', u'such', u'tremulous', u'feeling', u',', u'the', u'various', u'lines', u'which', u'imaged', u'a', u'broken', u'heart', u',', u'or', u'a', u'mind', u'destroyed', u'by', u'wretchedness', u',', u'and', u'looked', u'so', u'entirely', u'as', u'if', u'he', u'meant', u'to', u'be', u'understood', u',', u'that', u'she', u'ventured', u'to', u'hope', u'he', u'did', u'not', u'always', u'read', u'only', u'poetry', u',', u'and', u'to', u'say', u',', u'that', u'she', u'thought', u'it', u'was', u'the', u'misfortune', u'of', u'poetry', u'to', u'be', u'seldom', u'safely', u'enjoyed', u'by', u'those', u'who', u'enjoyed', u'it', u'completely', u';', u'and', u'that', u'the', u'strong', u'feelings', u'which', u'alone', u'could', u'estimate', u'it', u'truly', u'were', u'the', u'very', u'feelings', u'which', u'ought', u'to', u'taste', u'it', u'but', u'sparingly', u'.']]\n",
      "[[u'I', u'am', u'sure', u'you', u'will', u'be', u'glad', u'to', u'hear', u',', u'as', u'likewise', u'dear', u'Mrs', u'.', u'Jennings', u',', u'I', u'spent', u'two', u'happy', u'hours', u'with', u'him', u'yesterday', u'afternoon', u',', u'he', u'would', u'not', u'hear', u'of', u'our', u'parting', u',', u'though', u'earnestly', u'did', u'I', u',', u'as', u'I', u'thought', u'my', u'duty', u'required', u',', u'urge', u'him', u'to', u'it', u'for', u'prudence', u'sake', u',', u'and', u'would', u'have', u'parted', u'for', u'ever', u'on', u'the', u'spot', u',', u'would', u'he', u'consent', u'to', u'it', u';', u'but', u'he', u'said', u'it', u'should', u'never', u'be', u',', u'he', u'did', u'not', u'regard', u'his', u'mother', u\"'\", u's', u'anger', u',', u'while', u'he', u'could', u'have', u'my', u'affections', u';', u'our', u'prospects', u'are', u'not', u'very', u'bright', u',', u'to', u'be', u'sure', u',', u'but', u'we', u'must', u'wait', u',', u'and', u'hope', u'for', u'the', u'best', u';', u'he', u'will', u'be', u'ordained', u'shortly', u';', u'and', u'should', u'it', u'ever', u'be', u'in', u'your', u'power', u'to', u'recommend', u'him', u'to', u'any', u'body', u'that', u'has', u'a', u'living', u'to', u'bestow', u',', u'am', u'very', u'sure', u'you', u'will', u'not', u'forget', u'us', u',', u'and', u'dear', u'Mrs', u'.', u'Jennings', u'too', u',', u'trust', u'she', u'will', u'speak', u'a', u'good', u'word', u'for', u'us', u'to', u'Sir', u'John', u',', u'or', u'Mr', u'.', u'Palmer', u',', u'or', u'any', u'friend', u'that', u'may', u'be', u'able', u'to', u'assist', u'us', u'.--', u'Poor', u'Anne', u'was', u'much', u'to', u'blame', u'for', u'what', u'she', u'did', u',', u'but', u'she', u'did', u'it', u'for', u'the', u'best', u',', u'so', u'I', u'say', u'nothing', u';', u'hope', u'Mrs', u'.', u'Jennings', u'won', u\"'\", u't', u'think', u'it', u'too', u'much', u'trouble', u'to', u'give', u'us', u'a', u'call', u',', u'should', u'she', u'come', u'this', u'way', u'any', u'morning', u',', u\"'\", u'twould', u'be', u'a', u'great', u'kindness', u',', u'and', u'my', u'cousins', u'would', u'be', u'proud', u'to', u'know', u'her', u'.--', u'My', u'paper', u'reminds', u'me', u'to', u'conclude', u';', u'and', u'begging', u'to', u'be', u'most', u'gratefully', u'and', u'respectfully', u'remembered', u'to', u'her', u',', u'and', u'to', u'Sir', u'John', u',', u'and', u'Lady', u'Middleton', u',', u'and', u'the', u'dear', u'children', u',', u'when', u'you', u'chance', u'to', u'see', u'them', u',', u'and', u'love', u'to', u'Miss', u'Marianne', u',']]\n",
      "[[u'15', u':', u'21', u'And', u'the', u'uttermost', u'cities', u'of', u'the', u'tribe', u'of', u'the', u'children', u'of', u'Judah', u'toward', u'the', u'coast', u'of', u'Edom', u'southward', u'were', u'Kabzeel', u',', u'and', u'Eder', u',', u'and', u'Jagur', u',', u'15', u':', u'22', u'And', u'Kinah', u',', u'and', u'Dimonah', u',', u'and', u'Adadah', u',', u'15', u':', u'23', u'And', u'Kedesh', u',', u'and', u'Hazor', u',', u'and', u'Ithnan', u',', u'15', u':', u'24', u'Ziph', u',', u'and', u'Telem', u',', u'and', u'Bealoth', u',', u'15', u':', u'25', u'And', u'Hazor', u',', u'Hadattah', u',', u'and', u'Kerioth', u',', u'and', u'Hezron', u',', u'which', u'is', u'Hazor', u',', u'15', u':', u'26', u'Amam', u',', u'and', u'Shema', u',', u'and', u'Moladah', u',', u'15', u':', u'27', u'And', u'Hazargaddah', u',', u'and', u'Heshmon', u',', u'and', u'Bethpalet', u',', u'15', u':', u'28', u'And', u'Hazarshual', u',', u'and', u'Beersheba', u',', u'and', u'Bizjothjah', u',', u'15', u':', u'29', u'Baalah', u',', u'and', u'Iim', u',', u'and', u'Azem', u',', u'15', u':', u'30', u'And', u'Eltolad', u',', u'and', u'Chesil', u',', u'and', u'Hormah', u',', u'15', u':', u'31', u'And', u'Ziklag', u',', u'and', u'Madmannah', u',', u'and', u'Sansannah', u',', u'15', u':', u'32', u'And', u'Lebaoth', u',', u'and', u'Shilhim', u',', u'and', u'Ain', u',', u'and', u'Rimmon', u':', u'all', u'the', u'cities', u'are', u'twenty', u'and', u'nine', u',', u'with', u'their', u'villages', u':', u'15', u':', u'33', u'And', u'in', u'the', u'valley', u',', u'Eshtaol', u',', u'and', u'Zoreah', u',', u'and', u'Ashnah', u',', u'15', u':', u'34', u'And', u'Zanoah', u',', u'and', u'Engannim', u',', u'Tappuah', u',', u'and', u'Enam', u',', u'15', u':', u'35', u'Jarmuth', u',', u'and', u'Adullam', u',', u'Socoh', u',', u'and', u'Azekah', u',', u'15', u':', u'36', u'And', u'Sharaim', u',', u'and', u'Adithaim', u',', u'and', u'Gederah', u',', u'and', u'Gederothaim', u';', u'fourteen', u'cities', u'with', u'their', u'villages', u':', u'15', u':', u'37', u'Zenan', u',', u'and', u'Hadashah', u',', u'and', u'Migdalgad', u',', u'15', u':', u'38', u'And', u'Dilean', u',', u'and', u'Mizpeh', u',', u'and', u'Joktheel', u',', u'15', u':', u'39', u'Lachish', u',', u'and', u'Bozkath', u',', u'and', u'Eglon', u',', u'15', u':', u'40', u'And', u'Cabbon', u',', u'and', u'Lahmam', u',', u'and', u'Kithlish', u',', u'15', u':', u'41', u'And', u'Gederoth', u',', u'Bethdagon', u',', u'and', u'Naamah', u',', u'and', u'Makkedah', u';', u'sixteen', u'cities', u'with', u'their', u'villages', u':', u'15', u':', u'42', u'Libnah', u',', u'and', u'Ether', u',', u'and', u'Ashan', u',', u'15', u':', u'43', u'And', u'Jiphtah', u',', u'and', u'Ashnah', u',', u'and', u'Nezib', u',', u'15', u':', u'44', u'And', u'Keilah', u',', u'and', u'Achzib', u',', u'and', u'Mareshah', u';', u'nine', u'cities', u'with', u'their', u'villages', u':', u'15', u':', u'45', u'Ekron', u',', u'with', u'her', u'towns', u'and', u'her', u'villages', u':', u'15', u':', u'46', u'From', u'Ekron', u'even', u'unto', u'the', u'sea', u',', u'all', u'that', u'lay', u'near', u'Ashdod', u',', u'with', u'their', u'villages', u':', u'15', u':', u'47', u'Ashdod', u'with', u'her', u'towns', u'and', u'her', u'villages', u',', u'Gaza', u'with', u'her', u'towns', u'and', u'her', u'villages', u',', u'unto', u'the', u'river', u'of', u'Egypt', u',', u'and', u'the', u'great', u'sea', u',', u'and', u'the', u'border', u'thereof', u':', u'15', u':', u'48', u'And', u'in', u'the', u'mountains', u',', u'Shamir', u',', u'and', u'Jattir', u',', u'and', u'Socoh', u',', u'15', u':', u'49', u'And', u'Dannah', u',', u'and', u'Kirjathsannah', u',', u'which', u'is', u'Debir', u',', u'15', u':', u'50', u'And', u'Anab', u',', u'and', u'Eshtemoh', u',', u'and', u'Anim', u',', u'15', u':', u'51', u'And', u'Goshen', u',', u'and', u'Holon', u',', u'and', u'Giloh', u';', u'eleven', u'cities', u'with', u'their', u'villages', u':', u'15', u':', u'52', u'Arab', u',', u'and', u'Dumah', u',', u'and', u'Eshean', u',', u'15', u':', u'53', u'And', u'Janum', u',', u'and', u'Bethtappuah', u',', u'and', u'Aphekah', u',', u'15', u':', u'54', u'And', u'Humtah', u',', u'and', u'Kirjatharba', u',', u'which', u'is', u'Hebron', u',', u'and', u'Zior', u';', u'nine', u'cities', u'with', u'their', u'villages', u':', u'15', u':', u'55', u'Maon', u',', u'Carmel', u',', u'and', u'Ziph', u',', u'and', u'Juttah', u',', u'15', u':', u'56', u'And', u'Jezreel', u',', u'and', u'Jokdeam', u',', u'and', u'Zanoah', u',', u'15', u':', u'57', u'Cain', u',', u'Gibeah', u',', u'and', u'Timnah', u';', u'ten', u'cities', u'with', u'their', u'villages', u':', u'15', u':', u'58', u'Halhul', u',', u'Bethzur', u',', u'and', u'Gedor', u',', u'15', u':', u'59', u'And', u'Maarath', u',', u'and', u'Bethanoth', u',', u'and', u'Eltekon', u';', u'six', u'cities', u'with', u'their', u'villages', u':', u'15', u':', u'60', u'Kirjathbaal', u',', u'which', u'is', u'Kirjathjearim', u',', u'and', u'Rabbah', u';', u'two', u'cities', u'with', u'their', u'villages', u':', u'15', u':', u'61', u'In', u'the', u'wilderness', u',', u'Betharabah', u',', u'Middin', u',', u'and', u'Secacah', u',', u'15', u':', u'62', u'And', u'Nibshan', u',', u'and', u'the', u'city', u'of', u'Salt', u',', u'and', u'Engedi', u';', u'six', u'cities', u'with', u'their', u'villages', u'.']]\n",
      "[[u'I', u'fear', u'that', u'I', u'am', u'not', u'like', u'thee', u':', u'For', u'I', u'walk', u'through', u'the', u'vales', u'of', u'Har', u',', u'and', u'smell', u'the', u'sweetest', u'flowers', u':', u'But', u'I', u'feed', u'not', u'the', u'little', u'flowers', u':', u'I', u'hear', u'the', u'warbling', u'birds', u',', u'But', u'I', u'feed', u'not', u'the', u'warbling', u'birds', u',', u'they', u'fly', u'and', u'seek', u'their', u'food', u':', u'But', u'Thel', u'delights', u'in', u'these', u'no', u'more', u'because', u'I', u'fade', u'away', u'And', u'all', u'shall', u'say', u',', u'without', u'a', u'use', u'this', u'shining', u'women', u'liv', u\"'\", u'd', u',', u'Or', u'did', u'she', u'only', u'live', u'to', u'be', u'at', u'death', u'the', u'food', u'of', u'worms', u'.']]\n",
      "[[u'David', u'looked', u'to', u'see', u'what', u'the', u'trouble', u'was', u',', u'and', u'he', u'saw', u'a', u'strange', u'sight', u':', u'down', u'the', u'slope', u'of', u'the', u'opposite', u'mountain', u'came', u'striding', u'a', u'Philistine', u'warrior', u',', u'calling', u'out', u'something', u'in', u'a', u'taunting', u'voice', u';', u'he', u'was', u'a', u'gigantic', u'man', u',', u'the', u'largest', u'David', u'had', u'ever', u'seen', u',', u'and', u'he', u'was', u'covered', u'with', u'armour', u',', u'that', u'shone', u'in', u'the', u'sun', u':', u'he', u'had', u'a', u'helmet', u'of', u'brass', u'upon', u'his', u'head', u',', u'and', u'he', u'was', u'armed', u'with', u'a', u'coat', u'of', u'mail', u',', u'and', u'he', u'had', u'greaves', u'of', u'brass', u'upon', u'his', u'legs', u',', u'and', u'a', u'target', u'of', u'brass', u'between', u'his', u'shoulders', u';', u'his', u'spear', u'was', u'so', u'tremendous', u'that', u'the', u'staff', u'of', u'it', u'was', u'like', u'a', u'weaver', u\"'\", u's', u'beam', u',', u'and', u'his', u'shield', u'so', u'great', u'that', u'a', u'man', u'went', u'before', u'him', u',', u'to', u'carry', u'it', u'.']]\n",
      "[[u'Sammy', u'Jay', u'looked', u'at', u'Blacky', u'the', u'Crow', u',', u'and', u'Blacky', u'looked', u'at', u'Chatterer', u',', u'and', u'Chatterer', u'looked', u'at', u'Happy', u'Jack', u',', u'and', u'Happy', u'Jack', u'looked', u'at', u'Peter', u'Rabbit', u',', u'and', u'Peter', u'looked', u'at', u'Unc', u\"'\", u'Billy', u'Possum', u',', u'and', u'Unc', u\"'\", u'Billy', u'looked', u'at', u'Bobby', u'Coon', u',', u'and', u'Bobby', u'looked', u'at', u'Johnny', u'Chuck', u',', u'and', u'Johnny', u'looked', u'at', u'Reddy', u'Fox', u',', u'and', u'Reddy', u'looked', u'at', u'Jimmy', u'Skunk', u',', u'and', u'Jimmy', u'looked', u'at', u'Billy', u'Mink', u',', u'and', u'Billy', u'looked', u'at', u'Little', u'Joe', u'Otter', u',', u'and', u'for', u'a', u'minute', u'nobody', u'could', u'say', u'a', u'word', u'.']]\n",
      "[[u'Hardly', u'knowing', u'what', u'she', u'did', u',', u'she', u'picked', u'up', u'a', u'little', u'bit', u'of', u'stick', u',', u'and', u'held', u'it', u'out', u'to', u'the', u'puppy', u';', u'whereupon', u'the', u'puppy', u'jumped', u'into', u'the', u'air', u'off', u'all', u'its', u'feet', u'at', u'once', u',', u'with', u'a', u'yelp', u'of', u'delight', u',', u'and', u'rushed', u'at', u'the', u'stick', u',', u'and', u'made', u'believe', u'to', u'worry', u'it', u';', u'then', u'Alice', u'dodged', u'behind', u'a', u'great', u'thistle', u',', u'to', u'keep', u'herself', u'from', u'being', u'run', u'over', u';', u'and', u'the', u'moment', u'she', u'appeared', u'on', u'the', u'other', u'side', u',', u'the', u'puppy', u'made', u'another', u'rush', u'at', u'the', u'stick', u',', u'and', u'tumbled', u'head', u'over', u'heels', u'in', u'its', u'hurry', u'to', u'get', u'hold', u'of', u'it', u';', u'then', u'Alice', u',', u'thinking', u'it', u'was', u'very', u'like', u'having', u'a', u'game', u'of', u'play', u'with', u'a', u'cart', u'-', u'horse', u',', u'and', u'expecting', u'every', u'moment', u'to', u'be', u'trampled', u'under', u'its', u'feet', u',', u'ran', u'round', u'the', u'thistle', u'again', u';', u'then', u'the', u'puppy', u'began', u'a', u'series', u'of', u'short', u'charges', u'at', u'the', u'stick', u',', u'running', u'a', u'very', u'little', u'way', u'forwards', u'each', u'time', u'and', u'a', u'long', u'way', u'back', u',', u'and', u'barking', u'hoarsely', u'all', u'the', u'while', u',', u'till', u'at', u'last', u'it', u'sat', u'down', u'a', u'good', u'way', u'off', u',', u'panting', u',', u'with', u'its', u'tongue', u'hanging', u'out', u'of', u'its', u'mouth', u',', u'and', u'its', u'great', u'eyes', u'half', u'shut', u'.']]\n",
      "[[u'But', u'if', u'you', u',', u'and', u'a', u'few', u'feverish', u'men', u',', u'in', u'top', u'hats', u',', u'running', u'about', u'in', u'a', u'street', u'in', u'London', u',', u'choose', u'to', u'differ', u'as', u'to', u'the', u'ideal', u'itself', u',', u'not', u'only', u'from', u'the', u'Church', u',', u'but', u'from', u'the', u'Parthenon', u'whose', u'name', u'means', u'virginity', u',', u'from', u'the', u'Roman', u'Empire', u'which', u'went', u'outwards', u'from', u'the', u'virgin', u'flame', u',', u'from', u'the', u'whole', u'legend', u'and', u'tradition', u'of', u'Europe', u',', u'from', u'the', u'lion', u'who', u'will', u'not', u'touch', u'virgins', u',', u'from', u'the', u'unicorn', u'who', u'respects', u'them', u',', u'and', u'who', u'make', u'up', u'together', u'the', u'bearers', u'of', u'your', u'own', u'national', u'shield', u',', u'from', u'the', u'most', u'living', u'and', u'lawless', u'of', u'your', u'own', u'poets', u',', u'from', u'Massinger', u',', u'who', u'wrote', u'the', u'_Virgin', u'Martyr_', u',', u'from', u'Shakespeare', u',', u'who', u'wrote', u'_Measure', u'for', u'Measure_', u'--', u'if', u'you', u'in', u'Fleet', u'Street', u'differ', u'from', u'all', u'this', u'human', u'experience', u',', u'does', u'it', u'never', u'strike', u'you', u'that', u'it', u'may', u'be', u'Fleet', u'Street', u'that', u'is', u'wrong', u'?\"']]\n",
      "[[u'The', u'presence', u'of', u'the', u'one', u'man', u'who', u'did', u'not', u'care', u'about', u'her', u'increased', u'Miss', u'Rome', u\"'\", u's', u'sense', u'that', u'everybody', u'else', u'was', u'in', u'love', u'with', u'her', u',', u'and', u'each', u'in', u'a', u'somewhat', u'dangerous', u'way', u':', u'the', u'actor', u'with', u'all', u'the', u'appetite', u'of', u'a', u'savage', u'and', u'a', u'spoilt', u'child', u';', u'the', u'soldier', u'with', u'all', u'the', u'simple', u'selfishness', u'of', u'a', u'man', u'of', u'will', u'rather', u'than', u'mind', u';', u'Sir', u'Wilson', u'with', u'that', u'daily', u'hardening', u'concentration', u'with', u'which', u'old', u'Hedonists', u'take', u'to', u'a', u'hobby', u';', u'nay', u',', u'even', u'the', u'abject', u'Parkinson', u',', u'who', u'had', u'known', u'her', u'before', u'her', u'triumphs', u',', u'and', u'who', u'followed', u'her', u'about', u'the', u'room', u'with', u'eyes', u'or', u'feet', u',', u'with', u'the', u'dumb', u'fascination', u'of', u'a', u'dog', u'.']]\n",
      "[[u'He', u'could', u'only', u'fancy', u',', u'as', u'in', u'some', u'old', u'-', u'world', u'fable', u',', u'that', u'if', u'a', u'man', u'went', u'westward', u'to', u'the', u'end', u'of', u'the', u'world', u'he', u'would', u'find', u'something', u'--', u'say', u'a', u'tree', u'--', u'that', u'was', u'more', u'or', u'less', u'than', u'a', u'tree', u',', u'a', u'tree', u'possessed', u'by', u'a', u'spirit', u';', u'and', u'that', u'if', u'he', u'went', u'east', u'to', u'the', u'end', u'of', u'the', u'world', u'he', u'would', u'find', u'something', u'else', u'that', u'was', u'not', u'wholly', u'itself', u'--', u'a', u'tower', u',', u'perhaps', u',', u'of', u'which', u'the', u'very', u'shape', u'was', u'wicked', u'.']]\n",
      "[[u'The', u'next', u'day', u'Mrs', u'.', u'Theresa', u'Tattle', u'did', u'herself', u'the', u'honour', u'to', u'wait', u'upon', u'Mrs', u'.', u'Montague', u',', u'\"', u'to', u'apologize', u'for', u'the', u'liberty', u'she', u'taken', u'in', u'inviting', u'Mrs', u'.', u'Montague', u\"'\", u's', u'charming', u'Miss', u'Marianne', u'into', u'her', u'apartment', u'to', u'see', u'Pretty', u'Poll', u',', u'and', u'for', u'the', u'still', u'greater', u'liberty', u'she', u'had', u'taken', u'in', u'offering', u'her', u'a', u'piece', u'of', u'plum', u'-', u'cake', u'--', u'inconsiderate', u'creature', u'that', u'she', u'was', u'!--', u'which', u'might', u'possibly', u'have', u'disagreed', u'with', u'her', u',', u'and', u'which', u'certainly', u'were', u'liberties', u'she', u'never', u'should', u'have', u'been', u'induced', u'to', u'take', u',', u'if', u'she', u'had', u'not', u'been', u'unaccountably', u'bewitched', u'by', u'Miss', u'Marianne', u\"'\", u's', u'striking', u'though', u'highly', u'flattering', u'resemblance', u'to', u'a', u'young', u'gentleman', u'(', u'an', u'officer', u')', u'with', u'whom', u'she', u'had', u'danced', u',', u'now', u'nearly', u'twelve', u'years', u'ago', u',', u'of', u'the', u'name', u'of', u'Montague', u',', u'a', u'most', u'respectable', u'young', u'man', u',', u'and', u'of', u'a', u'most', u'respectable', u'family', u',', u'with', u'which', u',', u'in', u'a', u'remote', u'degree', u',', u'she', u'might', u'presume', u'to', u'say', u',', u'she', u'herself', u'was', u'someway', u'connected', u',', u'having', u'the', u'honour', u'to', u'be', u'nearly', u'related', u'to', u'the', u'Joneses', u'of', u'Merionethshire', u',', u'who', u'were', u'cousins', u'to', u'the', u'Mainwarings', u'of', u'Bedfordshire', u',', u'who', u'married', u'into', u'the', u'family', u'of', u'the', u'Griffiths', u',', u'the', u'eldest', u'branch', u'of', u'which', u',', u'she', u'understood', u',', u'had', u'the', u'honour', u'to', u'be', u'cousin', u'-', u'german', u'to', u'Mr', u'.', u'Montague', u';', u'on', u'which', u'account', u'she', u'had', u'been', u'impatient', u'to', u'pay', u'a', u'visit', u',', u'so', u'likely', u'to', u'be', u'productive', u'of', u'most', u'agreeable', u'consequences', u',', u'by', u'the', u'acquisition', u'of', u'an', u'acquaintance', u'whose', u'society', u'must', u'do', u'her', u'infinite', u'honour', u'.\"']]\n",
      "[[u'Though', u'in', u'many', u'natural', u'objects', u',', u'whiteness', u'refiningly', u'enhances', u'beauty', u',', u'as', u'if', u'imparting', u'some', u'special', u'virtue', u'of', u'its', u'own', u',', u'as', u'in', u'marbles', u',', u'japonicas', u',', u'and', u'pearls', u';', u'and', u'though', u'various', u'nations', u'have', u'in', u'some', u'way', u'recognised', u'a', u'certain', u'royal', u'preeminence', u'in', u'this', u'hue', u';', u'even', u'the', u'barbaric', u',', u'grand', u'old', u'kings', u'of', u'Pegu', u'placing', u'the', u'title', u'\"', u'Lord', u'of', u'the', u'White', u'Elephants', u'\"', u'above', u'all', u'their', u'other', u'magniloquent', u'ascriptions', u'of', u'dominion', u';', u'and', u'the', u'modern', u'kings', u'of', u'Siam', u'unfurling', u'the', u'same', u'snow', u'-', u'white', u'quadruped', u'in', u'the', u'royal', u'standard', u';', u'and', u'the', u'Hanoverian', u'flag', u'bearing', u'the', u'one', u'figure', u'of', u'a', u'snow', u'-', u'white', u'charger', u';', u'and', u'the', u'great', u'Austrian', u'Empire', u',', u'Caesarian', u',', u'heir', u'to', u'overlording', u'Rome', u',', u'having', u'for', u'the', u'imperial', u'colour', u'the', u'same', u'imperial', u'hue', u';', u'and', u'though', u'this', u'pre', u'-', u'eminence', u'in', u'it', u'applies', u'to', u'the', u'human', u'race', u'itself', u',', u'giving', u'the', u'white', u'man', u'ideal', u'mastership', u'over', u'every', u'dusky', u'tribe', u';', u'and', u'though', u',', u'besides', u',', u'all', u'this', u',', u'whiteness', u'has', u'been', u'even', u'made', u'significant', u'of', u'gladness', u',', u'for', u'among', u'the', u'Romans', u'a', u'white', u'stone', u'marked', u'a', u'joyful', u'day', u';', u'and', u'though', u'in', u'other', u'mortal', u'sympathies', u'and', u'symbolizings', u',', u'this', u'same', u'hue', u'is', u'made', u'the', u'emblem', u'of', u'many', u'touching', u',', u'noble', u'things', u'--', u'the', u'innocence', u'of', u'brides', u',', u'the', u'benignity', u'of', u'age', u';', u'though', u'among', u'the', u'Red', u'Men', u'of', u'America', u'the', u'giving', u'of', u'the', u'white', u'belt', u'of', u'wampum', u'was', u'the', u'deepest', u'pledge', u'of', u'honour', u';', u'though', u'in', u'many', u'climes', u',', u'whiteness', u'typifies', u'the', u'majesty', u'of', u'Justice', u'in', u'the', u'ermine', u'of', u'the', u'Judge', u',', u'and', u'contributes', u'to', u'the', u'daily', u'state', u'of', u'kings', u'and', u'queens', u'drawn', u'by', u'milk', u'-', u'white', u'steeds', u';', u'though', u'even', u'in', u'the', u'higher', u'mysteries', u'of', u'the', u'most', u'august', u'religions', u'it', u'has', u'been', u'made', u'the', u'symbol', u'of', u'the', u'divine', u'spotlessness', u'and', u'power', u';', u'by', u'the', u'Persian', u'fire', u'worshippers', u',', u'the', u'white', u'forked', u'flame', u'being', u'held', u'the', u'holiest', u'on', u'the', u'altar', u';', u'and', u'in', u'the', u'Greek', u'mythologies', u',', u'Great', u'Jove', u'himself', u'being', u'made', u'incarnate', u'in', u'a', u'snow', u'-', u'white', u'bull', u';', u'and', u'though', u'to', u'the', u'noble', u'Iroquois', u',', u'the', u'midwinter', u'sacrifice', u'of', u'the', u'sacred', u'White', u'Dog', u'was', u'by', u'far', u'the', u'holiest', u'festival', u'of', u'their', u'theology', u',', u'that', u'spotless', u',', u'faithful', u'creature', u'being', u'held', u'the', u'purest', u'envoy', u'they', u'could', u'send', u'to', u'the', u'Great', u'Spirit', u'with', u'the', u'annual', u'tidings', u'of', u'their', u'own', u'fidelity', u';', u'and', u'though', u'directly', u'from', u'the', u'Latin', u'word', u'for', u'white', u',', u'all', u'Christian', u'priests', u'derive', u'the', u'name', u'of', u'one', u'part', u'of', u'their', u'sacred', u'vesture', u',', u'the', u'alb', u'or', u'tunic', u',', u'worn', u'beneath', u'the', u'cassock', u';', u'and', u'though', u'among', u'the', u'holy', u'pomps', u'of', u'the', u'Romish', u'faith', u',', u'white', u'is', u'specially', u'employed', u'in', u'the', u'celebration', u'of', u'the', u'Passion', u'of', u'our', u'Lord', u';', u'though', u'in', u'the', u'Vision', u'of', u'St', u'.', u'John', u',', u'white', u'robes', u'are', u'given', u'to', u'the', u'redeemed', u',', u'and', u'the', u'four', u'-', u'and', u'-', u'twenty', u'elders', u'stand', u'clothed', u'in', u'white', u'before', u'the', u'great', u'-', u'white', u'throne', u',', u'and', u'the', u'Holy', u'One', u'that', u'sitteth', u'there', u'white', u'like', u'wool', u';', u'yet', u'for', u'all', u'these', u'accumulated', u'associations', u',', u'with', u'whatever', u'is', u'sweet', u',', u'and', u'honourable', u',', u'and', u'sublime', u',', u'there', u'yet', u'lurks', u'an', u'elusive', u'something', u'in', u'the', u'innermost', u'idea', u'of', u'this', u'hue', u',', u'which', u'strikes', u'more', u'of', u'panic', u'to', u'the', u'soul', u'than', u'that', u'redness', u'which', u'affrights', u'in', u'blood', u'.']]\n",
      "[[u'Beneath', u'him', u'with', u'new', u'wonder', u'now', u'he', u'views', u',', u'To', u'all', u'delight', u'of', u'human', u'sense', u'exposed', u',', u'In', u'narrow', u'room', u',', u'Nature', u\"'\", u's', u'whole', u'wealth', u',', u'yea', u'more', u',', u'A', u'Heaven', u'on', u'Earth', u':', u'For', u'blissful', u'Paradise', u'Of', u'God', u'the', u'garden', u'was', u',', u'by', u'him', u'in', u'the', u'east', u'Of', u'Eden', u'planted', u';', u'Eden', u'stretched', u'her', u'line', u'From', u'Auran', u'eastward', u'to', u'the', u'royal', u'towers', u'Of', u'great', u'Seleucia', u',', u'built', u'by', u'Grecian', u'kings', u',', u'Of', u'where', u'the', u'sons', u'of', u'Eden', u'long', u'before', u'Dwelt', u'in', u'Telassar', u':', u'In', u'this', u'pleasant', u'soil', u'His', u'far', u'more', u'pleasant', u'garden', u'God', u'ordained', u';', u'Out', u'of', u'the', u'fertile', u'ground', u'he', u'caused', u'to', u'grow', u'All', u'trees', u'of', u'noblest', u'kind', u'for', u'sight', u',', u'smell', u',', u'taste', u';', u'And', u'all', u'amid', u'them', u'stood', u'the', u'tree', u'of', u'life', u',', u'High', u'eminent', u',', u'blooming', u'ambrosial', u'fruit', u'Of', u'vegetable', u'gold', u';', u'and', u'next', u'to', u'life', u',', u'Our', u'death', u',', u'the', u'tree', u'of', u'knowledge', u',', u'grew', u'fast', u'by', u',', u'Knowledge', u'of', u'good', u'bought', u'dear', u'by', u'knowing', u'ill', u'.', u'Southward', u'through', u'Eden', u'went', u'a', u'river', u'large', u',', u'Nor', u'changed', u'his', u'course', u',', u'but', u'through', u'the', u'shaggy', u'hill', u'Passed', u'underneath', u'ingulfed', u';', u'for', u'God', u'had', u'thrown', u'That', u'mountain', u'as', u'his', u'garden', u'-', u'mould', u'high', u'raised', u'Upon', u'the', u'rapid', u'current', u',', u'which', u',', u'through', u'veins', u'Of', u'porous', u'earth', u'with', u'kindly', u'thirst', u'up', u'-', u'drawn', u',', u'Rose', u'a', u'fresh', u'fountain', u',', u'and', u'with', u'many', u'a', u'rill', u'Watered', u'the', u'garden', u';', u'thence', u'united', u'fell', u'Down', u'the', u'steep', u'glade', u',', u'and', u'met', u'the', u'nether', u'flood', u',', u'Which', u'from', u'his', u'darksome', u'passage', u'now', u'appears', u',', u'And', u'now', u',', u'divided', u'into', u'four', u'main', u'streams', u',', u'Runs', u'diverse', u',', u'wandering', u'many', u'a', u'famous', u'realm', u'And', u'country', u',', u'whereof', u'here', u'needs', u'no', u'account', u';', u'But', u'rather', u'to', u'tell', u'how', u',', u'if', u'Art', u'could', u'tell', u',', u'How', u'from', u'that', u'sapphire', u'fount', u'the', u'crisped', u'brooks', u',', u'Rolling', u'on', u'orient', u'pearl', u'and', u'sands', u'of', u'gold', u',', u'With', u'mazy', u'errour', u'under', u'pendant', u'shades', u'Ran', u'nectar', u',', u'visiting', u'each', u'plant', u',', u'and', u'fed', u'Flowers', u'worthy', u'of', u'Paradise', u',', u'which', u'not', u'nice', u'Art', u'In', u'beds', u'and', u'curious', u'knots', u',', u'but', u'Nature', u'boon', u'Poured', u'forth', u'profuse', u'on', u'hill', u',', u'and', u'dale', u',', u'and', u'plain', u',', u'Both', u'where', u'the', u'morning', u'sun', u'first', u'warmly', u'smote', u'The', u'open', u'field', u',', u'and', u'where', u'the', u'unpierced', u'shade', u'Imbrowned', u'the', u'noontide', u'bowers', u':', u'Thus', u'was', u'this', u'place', u'A', u'happy', u'rural', u'seat', u'of', u'various', u'view', u';', u'Groves', u'whose', u'rich', u'trees', u'wept', u'odorous', u'gums', u'and', u'balm', u',', u'Others', u'whose', u'fruit', u',', u'burnished', u'with', u'golden', u'rind', u',', u'Hung', u'amiable', u',', u'Hesperian', u'fables', u'true', u',', u'If', u'true', u',', u'here', u'only', u',', u'and', u'of', u'delicious', u'taste', u':', u'Betwixt', u'them', u'lawns', u',', u'or', u'level', u'downs', u',', u'and', u'flocks', u'Grazing', u'the', u'tender', u'herb', u',', u'were', u'interposed', u',', u'Or', u'palmy', u'hillock', u';', u'or', u'the', u'flowery', u'lap', u'Of', u'some', u'irriguous', u'valley', u'spread', u'her', u'store', u',', u'Flowers', u'of', u'all', u'hue', u',', u'and', u'without', u'thorn', u'the', u'rose', u':', u'Another', u'side', u',', u'umbrageous', u'grots', u'and', u'caves', u'Of', u'cool', u'recess', u',', u'o', u\"'\", u'er', u'which', u'the', u'mantling', u'vine', u'Lays', u'forth', u'her', u'purple', u'grape', u',', u'and', u'gently', u'creeps', u'Luxuriant', u';', u'mean', u'while', u'murmuring', u'waters', u'fall', u'Down', u'the', u'slope', u'hills', u',', u'dispersed', u',', u'or', u'in', u'a', u'lake', u',', u'That', u'to', u'the', u'fringed', u'bank', u'with', u'myrtle', u'crowned', u'Her', u'crystal', u'mirrour', u'holds', u',', u'unite', u'their', u'streams', u'.']]\n",
      "[[u'Ouer', u'thy', u'wounds', u',', u'now', u'do', u'I', u'Prophesie', u',', u'(', u'Which', u'like', u'dumbe', u'mouthes', u'do', u'ope', u'their', u'Ruby', u'lips', u',', u'To', u'begge', u'the', u'voyce', u'and', u'vtterance', u'of', u'my', u'Tongue', u')', u'A', u'Curse', u'shall', u'light', u'vpon', u'the', u'limbes', u'of', u'men', u';', u'Domesticke', u'Fury', u',', u'and', u'fierce', u'Ciuill', u'strife', u',', u'Shall', u'cumber', u'all', u'the', u'parts', u'of', u'Italy', u':', u'Blood', u'and', u'destruction', u'shall', u'be', u'so', u'in', u'vse', u',', u'And', u'dreadfull', u'Obiects', u'so', u'familiar', u',', u'That', u'Mothers', u'shall', u'but', u'smile', u',', u'when', u'they', u'behold', u'Their', u'Infants', u'quartered', u'with', u'the', u'hands', u'of', u'Warre', u':', u'All', u'pitty', u'choak', u\"'\", u'd', u'with', u'custome', u'of', u'fell', u'deeds', u',', u'And', u'Caesars', u'Spirit', u'ranging', u'for', u'Reuenge', u',', u'With', u'Ate', u'by', u'his', u'side', u',', u'come', u'hot', u'from', u'Hell', u',', u'Shall', u'in', u'these', u'Confines', u',', u'with', u'a', u'Monarkes', u'voyce', u',', u'Cry', u'hauocke', u',', u'and', u'let', u'slip', u'the', u'Dogges', u'of', u'Warre', u',', u'That', u'this', u'foule', u'deede', u',', u'shall', u'smell', u'aboue', u'the', u'earth', u'With', u'Carrion', u'men', u',', u'groaning', u'for', u'Buriall', u'.']]\n",
      "[[u'To', u'thine', u'owne', u'peace', u':', u'if', u'he', u'be', u'now', u'return', u\"'\", u'd', u',', u'As', u'checking', u'at', u'his', u'Voyage', u',', u'and', u'that', u'he', u'meanes', u'No', u'more', u'to', u'vndertake', u'it', u';', u'I', u'will', u'worke', u'him', u'To', u'an', u'exployt', u'now', u'ripe', u'in', u'my', u'Deuice', u',', u'Vnder', u'the', u'which', u'he', u'shall', u'not', u'choose', u'but', u'fall', u';', u'And', u'for', u'his', u'death', u'no', u'winde', u'of', u'blame', u'shall', u'breath', u',', u'But', u'euen', u'his', u'Mother', u'shall', u'vncharge', u'the', u'practice', u',', u'And', u'call', u'it', u'accident', u':', u'Some', u'two', u'Monthes', u'hence', u'Here', u'was', u'a', u'Gentleman', u'of', u'Normandy', u',', u'I', u\"'\", u'ue', u'seene', u'my', u'selfe', u',', u'and', u'seru', u\"'\", u'd', u'against', u'the', u'French', u',', u'And', u'they', u'ran', u'well', u'on', u'Horsebacke', u';', u'but', u'this', u'Gallant', u'Had', u'witchcraft', u'in', u\"'\", u't', u';', u'he', u'grew', u'into', u'his', u'Seat', u',', u'And', u'to', u'such', u'wondrous', u'doing', u'brought', u'his', u'Horse', u',', u'As', u'had', u'he', u'beene', u'encorps', u\"'\", u't', u'and', u'demy', u'-', u'Natur', u\"'\", u'd', u'With', u'the', u'braue', u'Beast', u',', u'so', u'farre', u'he', u'past', u'my', u'thought', u',', u'That', u'I', u'in', u'forgery', u'of', u'shapes', u'and', u'trickes', u',', u'Come', u'short', u'of', u'what', u'he', u'did']]\n",
      "[[u'Doubtfull', u'it', u'stood', u',', u'As', u'two', u'spent', u'Swimmers', u',', u'that', u'doe', u'cling', u'together', u',', u'And', u'choake', u'their', u'Art', u':', u'The', u'mercilesse', u'Macdonwald', u'(', u'Worthie', u'to', u'be', u'a', u'Rebell', u',', u'for', u'to', u'that', u'The', u'multiplying', u'Villanies', u'of', u'Nature', u'Doe', u'swarme', u'vpon', u'him', u')', u'from', u'the', u'Westerne', u'Isles', u'Of', u'Kernes', u'and', u'Gallowgrosses', u'is', u'supply', u\"'\", u'd', u',', u'And', u'Fortune', u'on', u'his', u'damned', u'Quarry', u'smiling', u',', u'Shew', u\"'\", u'd', u'like', u'a', u'Rebells', u'Whore', u':', u'but', u'all', u\"'\", u's', u'too', u'weake', u':', u'For', u'braue', u'Macbeth', u'(', u'well', u'hee', u'deserues', u'that', u'Name', u')', u'Disdayning', u'Fortune', u',', u'with', u'his', u'brandisht', u'Steele', u',', u'Which', u'smoak', u\"'\", u'd', u'with', u'bloody', u'execution', u'(', u'Like', u'Valours', u'Minion', u')', u'caru', u\"'\", u'd', u'out', u'his', u'passage', u',', u'Till', u'hee', u'fac', u\"'\", u'd', u'the', u'Slaue', u':', u'Which', u'neu', u\"'\", u'r', u'shooke', u'hands', u',', u'nor', u'bad', u'farwell', u'to', u'him', u',', u'Till', u'he', u'vnseam', u\"'\", u'd', u'him', u'from', u'the', u'Naue', u'toth', u\"'\", u'Chops', u',', u'And', u'fix', u\"'\", u'd', u'his', u'Head', u'vpon', u'our', u'Battlements']]\n",
      "[[u'By', u'the', u'city', u\"'\", u's', u'quadrangular', u'houses', u'--', u'in', u'log', u'huts', u',', u'camping', u'with', u'lumber', u'-', u'men', u',', u'Along', u'the', u'ruts', u'of', u'the', u'turnpike', u',', u'along', u'the', u'dry', u'gulch', u'and', u'rivulet', u'bed', u',', u'Weeding', u'my', u'onion', u'-', u'patch', u'or', u'hosing', u'rows', u'of', u'carrots', u'and', u'parsnips', u',', u'crossing', u'savannas', u',', u'trailing', u'in', u'forests', u',', u'Prospecting', u',', u'gold', u'-', u'digging', u',', u'girdling', u'the', u'trees', u'of', u'a', u'new', u'purchase', u',', u'Scorch', u\"'\", u'd', u'ankle', u'-', u'deep', u'by', u'the', u'hot', u'sand', u',', u'hauling', u'my', u'boat', u'down', u'the', u'shallow', u'river', u',', u'Where', u'the', u'panther', u'walks', u'to', u'and', u'fro', u'on', u'a', u'limb', u'overhead', u',', u'where', u'the', u'buck', u'turns', u'furiously', u'at', u'the', u'hunter', u',', u'Where', u'the', u'rattlesnake', u'suns', u'his', u'flabby', u'length', u'on', u'a', u'rock', u',', u'where', u'the', u'otter', u'is', u'feeding', u'on', u'fish', u',', u'Where', u'the', u'alligator', u'in', u'his', u'tough', u'pimples', u'sleeps', u'by', u'the', u'bayou', u',', u'Where', u'the', u'black', u'bear', u'is', u'searching', u'for', u'roots', u'or', u'honey', u',', u'where', u'the', u'beaver', u'pats', u'the', u'mud', u'with', u'his', u'paddle', u'-', u'shaped', u'tall', u';', u'Over', u'the', u'growing', u'sugar', u',', u'over', u'the', u'yellow', u'-', u'flower', u\"'\", u'd', u'cotton', u'plant', u',', u'over', u'the', u'rice', u'in', u'its', u'low', u'moist', u'field', u',', u'Over', u'the', u'sharp', u'-', u'peak', u\"'\", u'd', u'farm', u'house', u',', u'with', u'its', u'scallop', u\"'\", u'd', u'scum', u'and', u'slender', u'shoots', u'from', u'the', u'gutters', u',', u'Over', u'the', u'western', u'persimmon', u',', u'over', u'the', u'long', u'-', u'leav', u\"'\", u'd', u'corn', u',', u'over', u'the', u'delicate', u'blue', u'-', u'flower', u'flax', u',', u'Over', u'the', u'white', u'and', u'brown', u'buckwheat', u',', u'a', u'hummer', u'and', u'buzzer', u'there', u'with', u'the', u'rest', u',', u'Over', u'the', u'dusky', u'green', u'of', u'the', u'rye', u'as', u'it', u'ripples', u'and', u'shades', u'in', u'the', u'breeze', u';', u'Scaling', u'mountains', u',', u'pulling', u'myself', u'cautiously', u'up', u',', u'holding', u'on', u'by', u'low', u'scragged', u'limbs', u',', u'Walking', u'the', u'path', u'worn', u'in', u'the', u'grass', u'and', u'beat', u'through', u'the', u'leaves', u'of', u'the', u'brush', u',', u'Where', u'the', u'quail', u'is', u'whistling', u'betwixt', u'the', u'woods', u'and', u'the', u'wheat', u'-', u'lot', u',', u'Where', u'the', u'bat', u'flies', u'in', u'the', u'Seventh', u'-', u'month', u'eve', u',', u'where', u'the', u'great', u'goldbug', u'drops', u'through', u'the', u'dark', u',', u'Where', u'the', u'brook', u'puts', u'out', u'of', u'the', u'roots', u'of', u'the', u'old', u'tree', u'and', u'flows', u'to', u'the', u'meadow', u',', u'Where', u'cattle', u'stand', u'and', u'shake', u'away', u'flies', u'with', u'the', u'tremulous', u'shuddering', u'of', u'their', u'hides', u',', u'Where', u'the', u'cheese', u'-', u'cloth', u'hangs', u'in', u'the', u'kitchen', u',', u'where', u'andirons', u'straddle', u'the', u'hearth', u'-', u'slab', u',', u'where', u'cobwebs', u'fall', u'in', u'festoons', u'from', u'the', u'rafters', u';', u'Where', u'trip', u'-', u'hammers', u'crash', u',', u'where', u'the', u'press', u'is', u'whirling', u'its', u'cylinders', u',', u'Wherever', u'the', u'human', u'heart', u'beats', u'with', u'terrible', u'throes', u'under', u'its', u'ribs', u',', u'Where', u'the', u'pear', u'-', u'shaped', u'balloon', u'is', u'floating', u'aloft', u',', u'(', u'floating', u'in', u'it', u'myself', u'and', u'looking', u'composedly', u'down', u',)', u'Where', u'the', u'life', u'-', u'car', u'is', u'drawn', u'on', u'the', u'slip', u'-', u'noose', u',', u'where', u'the', u'heat', u'hatches', u'pale', u'-', u'green', u'eggs', u'in', u'the', u'dented', u'sand', u',', u'Where', u'the', u'she', u'-', u'whale', u'swims', u'with', u'her', u'calf', u'and', u'never', u'forsakes', u'it', u',', u'Where', u'the', u'steam', u'-', u'ship', u'trails', u'hind', u'-', u'ways', u'its', u'long', u'pennant', u'of', u'smoke', u',', u'Where', u'the', u'fin', u'of', u'the', u'shark', u'cuts', u'like', u'a', u'black', u'chip', u'out', u'of', u'the', u'water', u',', u'Where', u'the', u'half', u'-', u'burn', u\"'\", u'd', u'brig', u'is', u'riding', u'on', u'unknown', u'currents', u',', u'Where', u'shells', u'grow', u'to', u'her', u'slimy', u'deck', u',', u'where', u'the', u'dead', u'are', u'corrupting', u'below', u';', u'Where', u'the', u'dense', u'-', u'starr', u\"'\", u'd', u'flag', u'is', u'borne', u'at', u'the', u'head', u'of', u'the', u'regiments', u',', u'Approaching', u'Manhattan', u'up', u'by', u'the', u'long', u'-', u'stretching', u'island', u',', u'Under', u'Niagara', u',', u'the', u'cataract', u'falling', u'like', u'a', u'veil', u'over', u'my', u'countenance', u',', u'Upon', u'a', u'door', u'-', u'step', u',', u'upon', u'the', u'horse', u'-', u'block', u'of', u'hard', u'wood', u'outside', u',', u'Upon', u'the', u'race', u'-', u'course', u',', u'or', u'enjoying', u'picnics', u'or', u'jigs', u'or', u'a', u'good', u'game', u'of', u'base', u'-', u'ball', u',', u'At', u'he', u'-', u'festivals', u',', u'with', u'blackguard', u'gibes', u',', u'ironical', u'license', u',', u'bull', u'-', u'dances', u',', u'drinking', u',', u'laughter', u',', u'At', u'the', u'cider', u'-', u'mill', u'tasting', u'the', u'sweets', u'of', u'the', u'brown', u'mash', u',', u'sucking', u'the', u'juice', u'through', u'a', u'straw', u',', u'At', u'apple', u'-', u'peelings', u'wanting', u'kisses', u'for', u'all', u'the', u'red', u'fruit', u'I', u'find', u',', u'At', u'musters', u',', u'beach', u'-', u'parties', u',', u'friendly', u'bees', u',', u'huskings', u',', u'house', u'-', u'raisings', u';', u'Where', u'the', u'mocking', u'-', u'bird', u'sounds', u'his', u'delicious', u'gurgles', u',', u'cackles', u',', u'screams', u',', u'weeps', u',', u'Where', u'the', u'hay', u'-', u'rick', u'stands', u'in', u'the', u'barn', u'-', u'yard', u',', u'where', u'the', u'dry', u'-', u'stalks', u'are', u'scatter', u\"'\", u'd', u',', u'where', u'the', u'brood', u'-', u'cow', u'waits', u'in', u'the', u'hovel', u',', u'Where', u'the', u'bull', u'advances', u'to', u'do', u'his', u'masculine', u'work', u',', u'where', u'the', u'stud', u'to', u'the', u'mare', u',', u'where', u'the', u'cock', u'is', u'treading', u'the', u'hen', u',', u'Where', u'the', u'heifers', u'browse', u',', u'where', u'geese', u'nip', u'their', u'food', u'with', u'short', u'jerks', u',', u'Where', u'sun', u'-', u'down', u'shadows', u'lengthen', u'over', u'the', u'limitless', u'and', u'lonesome', u'prairie', u',', u'Where', u'herds', u'of', u'buffalo', u'make', u'a', u'crawling', u'spread', u'of', u'the', u'square', u'miles', u'far', u'and', u'near', u',', u'Where', u'the', u'humming', u'-', u'bird', u'shimmers', u',', u'where', u'the', u'neck', u'of', u'the', u'long', u'-', u'lived', u'swan', u'is', u'curving', u'and', u'winding', u',', u'Where', u'the', u'laughing', u'-', u'gull', u'scoots', u'by', u'the', u'shore', u',', u'where', u'she', u'laughs', u'her', u'near', u'-', u'human', u'laugh', u',', u'Where', u'bee', u'-', u'hives', u'range', u'on', u'a', u'gray', u'bench', u'in', u'the', u'garden', u'half', u'hid', u'by', u'the', u'high', u'weeds', u',', u'Where', u'band', u'-', u'neck', u\"'\", u'd', u'partridges', u'roost', u'in', u'a', u'ring', u'on', u'the', u'ground', u'with', u'their', u'heads', u'out', u',', u'Where', u'burial', u'coaches', u'enter', u'the', u'arch', u\"'\", u'd', u'gates', u'of', u'a', u'cemetery', u',', u'Where', u'winter', u'wolves', u'bark', u'amid', u'wastes', u'of', u'snow', u'and', u'icicled', u'trees', u',', u'Where', u'the', u'yellow', u'-', u'crown', u\"'\", u'd', u'heron', u'comes', u'to', u'the', u'edge', u'of', u'the', u'marsh', u'at', u'night', u'and', u'feeds', u'upon', u'small', u'crabs', u',', u'Where', u'the', u'splash', u'of', u'swimmers', u'and', u'divers', u'cools', u'the', u'warm', u'noon', u',', u'Where', u'the', u'katy', u'-', u'did', u'works', u'her', u'chromatic', u'reed', u'on', u'the', u'walnut', u'-', u'tree', u'over', u'the', u'well', u',', u'Through', u'patches', u'of', u'citrons', u'and', u'cucumbers', u'with', u'silver', u'-', u'wired', u'leaves', u',', u'Through', u'the', u'salt', u'-', u'lick', u'or', u'orange', u'glade', u',', u'or', u'under', u'conical', u'firs', u',', u'Through', u'the', u'gymnasium', u',', u'through', u'the', u'curtain', u\"'\", u'd', u'saloon', u',', u'through', u'the', u'office', u'or', u'public', u'hall', u';', u'Pleas', u\"'\", u'd', u'with', u'the', u'native', u'and', u'pleas', u\"'\", u'd', u'with', u'the', u'foreign', u',', u'pleas', u\"'\", u'd', u'with', u'the', u'new', u'and', u'old', u',', u'Pleas', u\"'\", u'd', u'with', u'the', u'homely', u'woman', u'as', u'well', u'as', u'the', u'handsome', u',', u'Pleas', u\"'\", u'd', u'with', u'the', u'quakeress', u'as', u'she', u'puts', u'off', u'her', u'bonnet', u'and', u'talks', u'melodiously', u',', u'Pleas', u\"'\", u'd', u'with', u'the', u'tune', u'of', u'the', u'choir', u'of', u'the', u'whitewash', u\"'\", u'd', u'church', u',', u'Pleas', u\"'\", u'd', u'with', u'the', u'earnest', u'words', u'of', u'the', u'sweating', u'Methodist', u'preacher', u',', u'impress', u\"'\", u'd', u'seriously', u'at', u'the', u'camp', u'-', u'meeting', u';', u'Looking', u'in', u'at', u'the', u'shop', u'-', u'windows', u'of', u'Broadway', u'the', u'whole', u'forenoon', u',', u'flatting', u'the', u'flesh', u'of', u'my', u'nose', u'on', u'the', u'thick', u'plate', u'glass', u',', u'Wandering', u'the', u'same', u'afternoon', u'with', u'my', u'face', u'turn', u\"'\", u'd', u'up', u'to', u'the', u'clouds', u',', u'or', u'down', u'a', u'lane', u'or', u'along', u'the', u'beach', u',', u'My', u'right', u'and', u'left', u'arms', u'round', u'the', u'sides', u'of', u'two', u'friends', u',', u'and', u'I', u'in', u'the', u'middle', u';', u'Coming', u'home', u'with', u'the', u'silent', u'and', u'dark', u'-', u'cheek', u\"'\", u'd', u'bush', u'-', u'boy', u',', u'(', u'behind', u'me', u'he', u'rides', u'at', u'the', u'drape', u'of', u'the', u'day', u',)', u'Far', u'from', u'the', u'settlements', u'studying', u'the', u'print', u'of', u'animals', u\"'\", u'feet', u',', u'or', u'the', u'moccasin', u'print', u',', u'By', u'the', u'cot', u'in', u'the', u'hospital', u'reaching', u'lemonade', u'to', u'a', u'feverish', u'patient', u',', u'Nigh', u'the', u'coffin', u\"'\", u'd', u'corpse', u'when', u'all', u'is', u'still', u',', u'examining', u'with', u'a', u'candle', u';', u'Voyaging', u'to', u'every', u'port', u'to', u'dicker', u'and', u'adventure', u',', u'Hurrying', u'with', u'the', u'modern', u'crowd', u'as', u'eager', u'and', u'fickle', u'as', u'any', u',', u'Hot', u'toward', u'one', u'I', u'hate', u',', u'ready', u'in', u'my', u'madness', u'to', u'knife', u'him', u',', u'Solitary', u'at', u'midnight', u'in', u'my', u'back', u'yard', u',', u'my', u'thoughts', u'gone', u'from', u'me', u'a', u'long', u'while', u',', u'Walking', u'the', u'old', u'hills', u'of', u'Judaea', u'with', u'the', u'beautiful', u'gentle', u'God', u'by', u'my', u'side', u',', u'Speeding', u'through', u'space', u',', u'speeding', u'through', u'heaven', u'and', u'the', u'stars', u',', u'Speeding', u'amid', u'the', u'seven', u'satellites', u'and', u'the', u'broad', u'ring', u',', u'and', u'the', u'diameter', u'of', u'eighty', u'thousand', u'miles', u',', u'Speeding', u'with', u'tail', u\"'\", u'd', u'meteors', u',', u'throwing', u'fire', u'-', u'balls', u'like', u'the', u'rest', u',', u'Carrying', u'the', u'crescent', u'child', u'that', u'carries', u'its', u'own', u'full', u'mother', u'in', u'its', u'belly', u',', u'Storming', u',', u'enjoying', u',', u'planning', u',', u'loving', u',', u'cautioning', u',', u'Backing', u'and', u'filling', u',', u'appearing', u'and', u'disappearing', u',', u'I', u'tread', u'day', u'and', u'night', u'such', u'roads', u'.']]\n"
     ]
    }
   ],
   "source": [
    "#### Find longest sentences for each text\n",
    "for text in gutenberg.fileids():\n",
    "    text_sents = gutenberg.sents(text)\n",
    "    max_text = max(len(s) for s in text_sents)\n",
    "    max_texts = [m for m in text_sents if len(m) == max_text]\n",
    "    print max_texts"
   ]
  },
  {
   "cell_type": "markdown",
   "metadata": {},
   "source": [
    "## Web and Chat Text"
   ]
  },
  {
   "cell_type": "code",
   "execution_count": 38,
   "metadata": {
    "collapsed": false
   },
   "outputs": [
    {
     "name": "stdout",
     "output_type": "stream",
     "text": [
      "(u'firefox.txt', u'Cookie Manager: \"Don\\'t allow sites that set removed cookies to se', '...')\n",
      "(u'grail.txt', u'SCENE 1: [wind] [clop clop clop] \\nKING ARTHUR: Whoa there!  [clop', '...')\n",
      "(u'overheard.txt', u'White guy: So, do you have any plans for this evening?\\nAsian girl', '...')\n",
      "(u'pirates.txt', u\"PIRATES OF THE CARRIBEAN: DEAD MAN'S CHEST, by Ted Elliott & Terr\", '...')\n",
      "(u'singles.txt', u'25 SEXY MALE, seeks attrac older single lady, for discreet encoun', '...')\n",
      "(u'wine.txt', u'Lovely delicate, fragrant Rhone wine. Polished leather and strawb', '...')\n"
     ]
    }
   ],
   "source": [
    "from nltk.corpus import webtext\n",
    "for fileid in webtext.fileids():\n",
    "     print(fileid, webtext.raw(fileid)[:65], '...')"
   ]
  },
  {
   "cell_type": "code",
   "execution_count": 44,
   "metadata": {
    "collapsed": false
   },
   "outputs": [
    {
     "data": {
      "text/plain": [
       "[u'i',\n",
       " u'do',\n",
       " u\"n't\",\n",
       " u'want',\n",
       " u'hot',\n",
       " u'pics',\n",
       " u'of',\n",
       " u'a',\n",
       " u'female',\n",
       " u',',\n",
       " u'I',\n",
       " u'can',\n",
       " u'look',\n",
       " u'in',\n",
       " u'a',\n",
       " u'mirror',\n",
       " u'.']"
      ]
     },
     "execution_count": 44,
     "metadata": {},
     "output_type": "execute_result"
    }
   ],
   "source": [
    "# Instant messenger chat sessions, originally used to identify sexual predators\n",
    "from nltk.corpus import nps_chat\n",
    "chatroom = nps_chat.posts('10-19-20s_706posts.xml')\n",
    "chatroom[123]"
   ]
  },
  {
   "cell_type": "code",
   "execution_count": null,
   "metadata": {
    "collapsed": true
   },
   "outputs": [],
   "source": []
  }
 ],
 "metadata": {
  "kernelspec": {
   "display_name": "Python 2",
   "language": "python",
   "name": "python2"
  },
  "language_info": {
   "codemirror_mode": {
    "name": "ipython",
    "version": 2
   },
   "file_extension": ".py",
   "mimetype": "text/x-python",
   "name": "python",
   "nbconvert_exporter": "python",
   "pygments_lexer": "ipython2",
   "version": "2.7.12"
  }
 },
 "nbformat": 4,
 "nbformat_minor": 0
}
